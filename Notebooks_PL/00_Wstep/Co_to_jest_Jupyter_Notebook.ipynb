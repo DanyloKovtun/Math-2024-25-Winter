{
  "cells": [
    {
      "cell_type": "markdown",
      "metadata": {
        "id": "4RQMhgsSMYuy"
      },
      "source": [
        "# Wstęp do Jupyter Notebook\n",
        "\n",
        "**Jupyter Notebook** to interaktywne środowisko programistyczne, które pozwala na tworzenie i udostępnianie dokumentów zawierających kod, równania, wizualizacje i tekst. Jest to narzędzie, które pozwala na tworzenie raportów, prezentacji, a także na naukę programowania.\n",
        "\n",
        "Większe partie tekstu w Jupyter Notebooku pisane są w formacie **Markdown**, który pozwala na jego formatowanie. Poniżej zobaczymy kilka przykładów formatowania tekstu w  [Markdown](https://www.markdownguide.org/cheat-sheet/) (więcej przykładów: [tu](https://quarto.org/docs/authoring/markdown-basics.html) oraz [tu](https://markdown-it.github.io/)). Wzory matematyczne można wprowadzać za pomocą składni [LaTeX](https://tilburgsciencehub.com/topics/research-skills/templates-dynamic-content/templates/amsmath-latex-cheatsheet/).\n",
        "Pamiętajcie, że zawsze można zapytać AI jak wygląda składnia Markdown lub LaTeX!\n",
        "\n",
        "Obliczenia matematyczne można wykonywać za pomocą języka **Python**. Składnia Pythona jest przejrzysta i intuicyjna, co pozwala na szybkie tworzenie skryptów i programów. W **Jupyter Notebook** (.ipynb) można wykonywać kod Pythona w komórkach kodu.\n",
        "\n",
        "**Colab** to hostowana przez Google usługa Jupyter Notebook, która nie wymaga konfiguracji i zapewnia bezpłatny dostęp do zasobów obliczeniowych, w tym procesorów graficznych. Colab szczególnie dobrze nadaje się do uczenia maszynowego, nauki o danych i edukacji.\n",
        "\n",
        "Korzystanie z narzędzi AI, takich jak [ChatGPT](https://openai.com/chatgpt), [Gemini](https://www.google.com/search?q=gemini+AI), [Claude](https://www.anthropic.com/claude), może znacznie ułatwić naukę matematyki na kursach akademickich. Te modele językowe oferują szybkie odpowiedzi, wyjaśnienia trudnych pojęć oraz pomoc w rozwiązywaniu zadań, umożliwiając interaktywną naukę w dowolnym momencie."
      ]
    },
    {
      "cell_type": "markdown",
      "metadata": {
        "id": "LHm0IKLxLlVR"
      },
      "source": [
        "## Wstęp do języka Markdown\n",
        "\n",
        "* \"# Tytuł pierwszego poziomu\"\n",
        "* \"## Tytuł drugiego poziomu\"\n",
        "* \"### Tytuł trzeciego poziomu\"\n",
        "\n",
        "To jest **pogrubiony** tekst, a to jest *kursywa*. Możesz także połączyć oba style jak **_pogrubiona kursywa_**.\n",
        "\n",
        "Możesz wstawić listy:\n",
        "- Element 1\n",
        "- Element 2\n",
        "  - Pod-element 1\n",
        "  - Pod-element 2\n",
        "\n",
        "Albo listy numerowane:\n",
        "1. Pierwszy krok\n",
        "2. Drugi krok\n",
        "3. Trzeci krok\n",
        "\n",
        "Wstaw link: [Odwiedź Google](https://www.google.com)\n",
        "\n",
        "Wstaw obrazek:  \n",
        "![Przykładowy obrazek](https://www.mediawiki.org/static/images/icons/mediawikiwiki.svg)\n",
        "\n",
        "Wstaw fragment kodu w linii: `print(\"Hello World!\")`\n",
        "\n",
        "Wstaw blok kodu:\n",
        "\n",
        "```python\n",
        "def funkcja():\n",
        "    print(\"To jest blok kodu Pythona.\")\n",
        "```\n",
        "\n",
        "Równania matematyczne w LaTeX:\n",
        "\n",
        "Zatopione równanie: $e^{i\\pi} + 1 = 0$\n",
        "\n",
        "Wyróżnione równanie:\n",
        "\n",
        "$$e^{i\\pi} + 1 = 0$$"
      ]
    },
    {
      "cell_type": "markdown",
      "metadata": {
        "id": "G6-7ELzKRFYm"
      },
      "source": [
        "## Wstęp do matematyki w Jupyter Notebooks"
      ]
    },
    {
      "cell_type": "markdown",
      "metadata": {
        "id": "sTeJMbVXLlVS"
      },
      "source": [
        "### Numeryczne obliczenia matematyczne\n",
        "\n",
        "#### Standardowa biblioteka matematyczna Pythona"
      ]
    },
    {
      "cell_type": "code",
      "execution_count": null,
      "metadata": {
        "id": "R7t1WkmlMYuz"
      },
      "outputs": [],
      "source": [
        "# Python jako kalulator\n",
        "2**10, 2**100"
      ]
    },
    {
      "cell_type": "code",
      "execution_count": null,
      "metadata": {
        "id": "wc4-QLEXNdQx"
      },
      "outputs": [],
      "source": [
        "# Aby policzyć bardziej skomplikowane wyrażenia, trzeba użyć dodatkowych modułów (math, numpy, sympy)\n",
        "\n",
        "import math # moduł matematyczny\n",
        "\n",
        "# Zwróć sinus\n",
        "print(math.sin(math.pi))\n",
        "print(math.sin(math.pi/2))\n",
        "print(math.sqrt(2))"
      ]
    },
    {
      "cell_type": "code",
      "execution_count": null,
      "metadata": {
        "id": "BWPonIFNMYuz"
      },
      "outputs": [],
      "source": [
        "# Prezentowanie wyników\n",
        "import math # moduł do obliczeń matematycznych\n",
        "print(f\"Pierwiastek kwadratowy z 2 to {math.sqrt(2)}\")\n",
        "print(f\"Sinus 30 stopni to {math.sin(math.radians(30))}\")"
      ]
    },
    {
      "cell_type": "markdown",
      "metadata": {
        "id": "xDqWdKoyLlVU"
      },
      "source": [
        "#### Numeryczny Python (NumPy)\n",
        "\n",
        "Dla bardziej wymagających, wydajnych i dokładnych obliczeń używamy biblioteki Numpy"
      ]
    },
    {
      "cell_type": "code",
      "execution_count": null,
      "metadata": {
        "id": "X_-GRTicMYu0"
      },
      "outputs": [],
      "source": [
        "import numpy as np # moduł do obliczeń numerycznych (Numerical Python)\n",
        "print(f\"Sinus 30 stopni to {np.sin(np.radians(30))}\")\n",
        "print(f\"Logarytm o podstawie 10 z 2 to {np.log10(2)}\")\n",
        "print(f\"Długość wektora [1,1,1,1,1] to {np.linalg.norm([1, 1, 1, 1, 1])}\")"
      ]
    },
    {
      "cell_type": "code",
      "execution_count": null,
      "metadata": {
        "id": "hNSVICqMMYu0"
      },
      "outputs": [],
      "source": [
        "# Wyznacznik macierzy\n",
        "A = np.array([[1, 2], [3, 4]])\n",
        "print(f\"Wyznacznik macierzy A to {np.linalg.det(A)}\")"
      ]
    },
    {
      "cell_type": "code",
      "execution_count": null,
      "metadata": {
        "id": "_1qa_1NAMYu0"
      },
      "outputs": [],
      "source": [
        "# Rozwiązywanie układów równań\n",
        "b = np.array([5, 7])\n",
        "x = np.linalg.solve(A, b)\n",
        "print(f\"Rozwiązanie układu równań Ax=b to x={x}\")"
      ]
    },
    {
      "cell_type": "code",
      "execution_count": null,
      "metadata": {
        "id": "4a0aEaMnMYu0"
      },
      "outputs": [],
      "source": [
        "# Niestety rozwiązania numeryczne zawsze są aproksymacją, a nie dokładnym rozwiązaniem.\n",
        "print(f\"{1/3:.30f}\")"
      ]
    },
    {
      "cell_type": "markdown",
      "metadata": {
        "id": "XMcQxdM6LlVU"
      },
      "source": [
        "#### Symboliczne obliczenia matematyczne\n",
        "\n",
        "SymPy to biblioteka Pythona do obliczeń symbolicznych, która pozwala na manipulowanie symbolami matematycznymi, takimi jak zmienne, równania, funkcje, pochodne, całki, granice i macierze."
      ]
    },
    {
      "cell_type": "code",
      "execution_count": null,
      "metadata": {
        "id": "T3GDWE6sMYu0"
      },
      "outputs": [],
      "source": [
        "# Python pozwala na obliczenia symboliczne\n",
        "import sympy as sp\n",
        "x,y,z = sp.symbols('x y z') # deklaracja zmiennych\n",
        "f,g = sp.symbols('f g', cls=sp.Function) # deklaracja funkcji\n"
      ]
    },
    {
      "cell_type": "code",
      "execution_count": null,
      "metadata": {
        "id": "2-klGUgXLlVV"
      },
      "outputs": [],
      "source": [
        "# Sinus 30 stopni\n",
        "sp.sin(sp.rad(30)) # dokładny wynik 1/2"
      ]
    },
    {
      "cell_type": "code",
      "execution_count": null,
      "metadata": {
        "id": "ZqQxBrFkLlVV"
      },
      "outputs": [],
      "source": [
        "# Logarytm naturalny z e\n",
        "sp.log(sp.E)"
      ]
    },
    {
      "cell_type": "code",
      "execution_count": null,
      "metadata": {
        "id": "8T7yJZynLlVV"
      },
      "outputs": [],
      "source": [
        "# Długosć wektora [1,1,1,1,1]\n",
        "v = sp.Matrix([1,1,1,1,1])\n",
        "v.norm()"
      ]
    },
    {
      "cell_type": "code",
      "execution_count": null,
      "metadata": {
        "id": "epxHRa6oLlVV"
      },
      "outputs": [],
      "source": [
        "f=f(x)"
      ]
    },
    {
      "cell_type": "code",
      "execution_count": null,
      "metadata": {
        "id": "VQiDFx2xMYu0"
      },
      "outputs": [],
      "source": [
        "x+y # operacje na zmiennych"
      ]
    },
    {
      "cell_type": "code",
      "execution_count": null,
      "metadata": {
        "id": "nHRRQFuiMYu1"
      },
      "outputs": [],
      "source": [
        "eq1=((x-y)**2).expand() # rozwinięcie wyrażenia\n",
        "eq1"
      ]
    },
    {
      "cell_type": "code",
      "execution_count": null,
      "metadata": {
        "id": "zeoRcyAEMYu1"
      },
      "outputs": [],
      "source": [
        "eq2=eq1.subs(x,1) # podstawienie wartości\n",
        "eq2"
      ]
    },
    {
      "cell_type": "code",
      "execution_count": null,
      "metadata": {
        "id": "PCkkk-HZMYu1"
      },
      "outputs": [],
      "source": [
        "# rozwiązanie eq2\n",
        "sol=sp.solveset(eq2,y)\n",
        "sol"
      ]
    },
    {
      "cell_type": "code",
      "execution_count": null,
      "metadata": {
        "id": "kBXDaY-2MYu1"
      },
      "outputs": [],
      "source": [
        "# różniczkowanie\n",
        "f=sp.sin(x)\n",
        "sp.diff(f,x)\n"
      ]
    },
    {
      "cell_type": "code",
      "execution_count": null,
      "metadata": {
        "id": "-60QJ-QnMYu1"
      },
      "outputs": [],
      "source": [
        "# bardziej skomplikowane wyrażenia\n",
        "f=sp.sin(x**sp.cos(x))\n",
        "f"
      ]
    },
    {
      "cell_type": "code",
      "execution_count": null,
      "metadata": {
        "id": "-PAlB6dvMYu1"
      },
      "outputs": [],
      "source": [
        "f.diff(x)"
      ]
    },
    {
      "cell_type": "code",
      "execution_count": 11,
      "metadata": {
        "id": "MicVcyAvMYu1",
        "outputId": "906229ed-025e-4f3e-bc8e-c2b0c1e27354",
        "colab": {
          "base_uri": "https://localhost:8080/",
          "height": 176
        }
      },
      "outputs": [
        {
          "output_type": "error",
          "ename": "NameError",
          "evalue": "name 'sp' is not defined",
          "traceback": [
            "\u001b[0;31m---------------------------------------------------------------------------\u001b[0m",
            "\u001b[0;31mNameError\u001b[0m                                 Traceback (most recent call last)",
            "\u001b[0;32m<ipython-input-11-d38b7db966f8>\u001b[0m in \u001b[0;36m<cell line: 2>\u001b[0;34m()\u001b[0m\n\u001b[1;32m      1\u001b[0m \u001b[0;31m# całkowanie\u001b[0m\u001b[0;34m\u001b[0m\u001b[0;34m\u001b[0m\u001b[0m\n\u001b[0;32m----> 2\u001b[0;31m \u001b[0mf\u001b[0m\u001b[0;34m=\u001b[0m\u001b[0msp\u001b[0m\u001b[0;34m.\u001b[0m\u001b[0msin\u001b[0m\u001b[0;34m(\u001b[0m\u001b[0mx\u001b[0m\u001b[0;34m)\u001b[0m\u001b[0;34m*\u001b[0m\u001b[0msp\u001b[0m\u001b[0;34m.\u001b[0m\u001b[0mcos\u001b[0m\u001b[0;34m(\u001b[0m\u001b[0mx\u001b[0m\u001b[0;34m)\u001b[0m\u001b[0;34m*\u001b[0m\u001b[0mx\u001b[0m\u001b[0;34m\u001b[0m\u001b[0;34m\u001b[0m\u001b[0m\n\u001b[0m\u001b[1;32m      3\u001b[0m \u001b[0mf\u001b[0m\u001b[0;34m.\u001b[0m\u001b[0mintegrate\u001b[0m\u001b[0;34m(\u001b[0m\u001b[0mx\u001b[0m\u001b[0;34m)\u001b[0m\u001b[0;34m\u001b[0m\u001b[0;34m\u001b[0m\u001b[0m\n",
            "\u001b[0;31mNameError\u001b[0m: name 'sp' is not defined"
          ]
        }
      ],
      "source": [
        "# całkowanie\n",
        "f=sp.sin(x)*sp.cos(x)*x\n",
        "f.integrate(x)"
      ]
    },
    {
      "cell_type": "code",
      "execution_count": 14,
      "metadata": {
        "id": "dk3ekiqBLlVW",
        "outputId": "cfad6961-3c25-448c-86c2-732417e6bb40",
        "colab": {
          "base_uri": "https://localhost:8080/",
          "height": 176
        }
      },
      "outputs": [
        {
          "output_type": "error",
          "ename": "NameError",
          "evalue": "name 'sp' is not defined",
          "traceback": [
            "\u001b[0;31m---------------------------------------------------------------------------\u001b[0m",
            "\u001b[0;31mNameError\u001b[0m                                 Traceback (most recent call last)",
            "\u001b[0;32m<ipython-input-14-3809f6342a39>\u001b[0m in \u001b[0;36m<cell line: 2>\u001b[0;34m()\u001b[0m\n\u001b[1;32m      1\u001b[0m \u001b[0;31m# wykres paraboli\u001b[0m\u001b[0;34m\u001b[0m\u001b[0;34m\u001b[0m\u001b[0m\n\u001b[0;32m----> 2\u001b[0;31m \u001b[0mf\u001b[0m \u001b[0;34m=\u001b[0m \u001b[0msp\u001b[0m\u001b[0;34m.\u001b[0m\u001b[0msin\u001b[0m\u001b[0;34m(\u001b[0m\u001b[0mx\u001b[0m\u001b[0;34m**\u001b[0m\u001b[0;36m2\u001b[0m\u001b[0;34m)\u001b[0m\u001b[0;34m\u001b[0m\u001b[0;34m\u001b[0m\u001b[0m\n\u001b[0m\u001b[1;32m      3\u001b[0m \u001b[0msp\u001b[0m\u001b[0;34m.\u001b[0m\u001b[0mplot\u001b[0m\u001b[0;34m(\u001b[0m\u001b[0mf\u001b[0m\u001b[0;34m)\u001b[0m\u001b[0;34m;\u001b[0m\u001b[0;34m\u001b[0m\u001b[0;34m\u001b[0m\u001b[0m\n",
            "\u001b[0;31mNameError\u001b[0m: name 'sp' is not defined"
          ]
        }
      ],
      "source": [
        "# wykres paraboli\n",
        "f = sp.sin(x**2)\n",
        "sp.plot(f);\n"
      ]
    },
    {
      "cell_type": "code",
      "execution_count": null,
      "metadata": {
        "id": "vpWcN_pzLlVX"
      },
      "outputs": [],
      "source": [
        "sp.integrate(x**2, x)"
      ]
    }
  ],
  "metadata": {
    "colab": {
      "provenance": []
    },
    "kernelspec": {
      "display_name": ".venv",
      "language": "python",
      "name": "python3"
    },
    "language_info": {
      "codemirror_mode": {
        "name": "ipython",
        "version": 3
      },
      "file_extension": ".py",
      "mimetype": "text/x-python",
      "name": "python",
      "nbconvert_exporter": "python",
      "pygments_lexer": "ipython3",
      "version": "3.11.9"
    }
  },
  "nbformat": 4,
  "nbformat_minor": 0
}