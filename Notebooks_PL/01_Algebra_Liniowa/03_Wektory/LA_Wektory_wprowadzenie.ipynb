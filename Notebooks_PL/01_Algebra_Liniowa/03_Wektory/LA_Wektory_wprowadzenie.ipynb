{
  "cells": [
    {
      "cell_type": "markdown",
      "metadata": {
        "id": "view-in-github",
        "colab_type": "text"
      },
      "source": [
        "<a href=\"https://colab.research.google.com/github/Sokolik-data/Math-2024-25-Winter/blob/main/Notebooks_PL/01_Algebra_Liniowa/03_Wektory/LA_Wektory_wprowadzenie.ipynb\" target=\"_parent\"><img src=\"https://colab.research.google.com/assets/colab-badge.svg\" alt=\"Open In Colab\"/></a>"
      ]
    },
    {
      "cell_type": "markdown",
      "metadata": {
        "id": "D7w9BRMLj_HC"
      },
      "source": [
        "# Wektory - Wprowadzenie\n",
        "\n",
        "**Wektory** są wielkościami, które posiadają zarówno wartość liczbową, jak i kierunek oraz zwrot w przestrzeni.\n",
        "Są one używane do opisu różnych wielkości fizycznych, takich jak prędkość, siła, czy natężenie pola elektrycznego.\n",
        "W przeciwieństwie do skalarów, które mają tylko wartość liczbową (np. masa, temperatura), wektory wymagają określenia kierunku.\n",
        "\n",
        "Wektor oznaczamy strzałką nad symbolem $\\vec{a}$ lub pogrubioną czcionką $\\mathbf{a}$.\n",
        "- Długość wektora można zapisać jako $|\\vec{a}|$ lub $a$.\n",
        "- Wektor o długości 1 nazywa się wektorem jednostkowym (wersorem) i zapisuje się jako $\\hat{\\mathbf{a}}= \\frac{\\vec{a}}{|\\vec{a}|}$.\n",
        "\n",
        "**Przykład:**\n",
        "\n",
        "Wektor $\\mathbf{a}= [3, 4]$ ma długość $a = 5$ i odpowiadający wersor (jednostkowy wektor wzdłuż kierunku wektora $\\mathbf{a}$) wyrażony jest przez $\\hat{\\mathbf{a}} = \\left[\\frac{3}{5}, \\frac{4}{5}\\right]$."
      ]
    },
    {
      "cell_type": "code",
      "execution_count": null,
      "metadata": {
        "id": "GjX8xAnpj_HH",
        "outputId": "a2024824-769f-4ed2-9c9b-8c20ff223a1d"
      },
      "outputs": [
        {
          "data": {
            "text/latex": [
              "$\\displaystyle \\sqrt{a_{x}^{2} + a_{y}^{2}}$"
            ],
            "text/plain": [
              "sqrt(a_x**2 + a_y**2)"
            ]
          },
          "execution_count": 22,
          "metadata": {},
          "output_type": "execute_result"
        }
      ],
      "source": [
        "import sympy as sp  # importuj moduł sympy\n",
        "\n",
        "# Dla wektora $\\mathbf{a} = [a_x, a_y]$, długość jest podana wzorem:\n",
        "# $$ |\\mathbf{a}| = a = \\sqrt{a_x^2 + a_y^2} $$\n",
        "\n",
        "a_x, a_y = sp.symbols('a_x a_y')  # Krok 1: Zdefiniuj symboliczne zmienne a_x i a_y\n",
        "dlugosc_a = sp.sqrt(a_x**2 + a_y**2)  # Krok 2: Utwórz wzór na długość wektora a\n",
        "dlugosc_a  # Krok 3: Wyświetl wynik"
      ]
    },
    {
      "cell_type": "code",
      "execution_count": null,
      "metadata": {
        "id": "kpnSXF-jj_HI",
        "outputId": "82f774f1-613a-4874-a32a-f67c0e8d6dc7"
      },
      "outputs": [
        {
          "data": {
            "text/latex": [
              "$\\displaystyle 5.0$"
            ],
            "text/plain": [
              "5.00000000000000"
            ]
          },
          "execution_count": 24,
          "metadata": {},
          "output_type": "execute_result"
        }
      ],
      "source": [
        "# Przypisz wartości dla a_x i a_y\n",
        "a_x = 3  # składowa x wektora\n",
        "a_y = 4  # składowa y wektora\n",
        "\n",
        "dlugosc_a = sp.sqrt(a_x**2 + a_y**2)  # Oblicz długość wektora dla a_x = 3 i a_y = 4\n",
        "dlugosc_a.evalf()  # Oblicz numerycznie długość wektora (oczekiwany wynik: 5)"
      ]
    },
    {
      "cell_type": "markdown",
      "metadata": {
        "id": "6NoDzJfoj_HJ"
      },
      "source": [
        "## Dodawanie wektorów\n",
        "\n",
        "Dodawanie wektorów polega na dodaniu współrzędnych wektorów o takiej samej długości.\n",
        "\n",
        "Dla dwóch wektorów $\\mathbf{a}$ i $\\mathbf{b}$ w przestrzeni $\\mathbb{R}^n$, gdzie:\n",
        "\n",
        "$$\n",
        "\\mathbf{a} = [a_1, a_2, \\dots, a_n], \\quad \\mathbf{b} = [b_1, b_2, \\dots, b_n] $$\n",
        "\n",
        "Dodawanie wektorów definiuje się następująco:\n",
        "\n",
        "$$\n",
        "\\mathbf{a} + \\mathbf{b} = [a_1 + b_1, a_2 + b_2, \\dots, a_n + b_n]\n",
        "$$\n",
        "\n",
        "## Mnożenie wektora przez skalar\n",
        "\n",
        "Mnożenie wektora przez skalar polega na pomnożeniu każdej współrzędnej wektora przez tę samą liczbę.\n",
        "\n",
        "Dla wektora $\\mathbf{a}$ i skalaru $k$:\n",
        "\n",
        "$$\n",
        "k \\mathbf{a} = [k a_1, k a_2, \\dots, k a_n]\n",
        "$$"
      ]
    },
    {
      "cell_type": "markdown",
      "metadata": {
        "id": "WD1uP1CAj_HJ"
      },
      "source": [
        "## Wektory na płaszczyźnie i w przestrzeni\n",
        "\n",
        "**Wektory w 2D:**\n",
        "\n",
        "Jeśli $\\mathbf{a} = [a_x, a_y]$, to długość jest dana wzorem $|\\mathbf{a}| = a = \\sqrt{a_x^2 + a_y^2}$\n",
        "\n",
        "**Wektory w 3D:**\n",
        "\n",
        "Jeśli $\\mathbf{a} = [a_x, a_y, a_z]$, to długość wektora wynosi $|\\mathbf{a}| = a = \\sqrt{a_x^2 + a_y^2 + a_z^2}$."
      ]
    },
    {
      "cell_type": "markdown",
      "metadata": {
        "id": "ptXhtvXGj_HK"
      },
      "source": [
        "## Wektor na wykresie"
      ]
    },
    {
      "cell_type": "code",
      "execution_count": null,
      "metadata": {
        "id": "S_ALMAYTj_HK",
        "outputId": "fdeb9d30-4eeb-4485-987b-78d1f9b885ce"
      },
      "outputs": [
        {
          "data": {
            "image/png": "[encoded data removed]",
            "text/plain": [
              "<Figure size 640x480 with 1 Axes>"
            ]
          },
          "metadata": {},
          "output_type": "display_data"
        }
      ],
      "source": [
        "import matplotlib.pyplot as plt # import modułu matplotlib.pyplot\n",
        "\n",
        "plt.figure() # utworzenie nowego rysunku\n",
        "plt.quiver(0, 0, 3, 4, angles='xy', scale_units='xy', scale=1, color='r') # szybki sposób na rysowanie wektora quiver(x_początek, y_początek, x_koniec, y_koniec)\n",
        "plt.xlim(0, 5) # ustawienie zakresu osi x\n",
        "plt.ylim(0, 5) # ustawienie zakresu osi y\n",
        "plt.grid(True) # włączenie siatki\n",
        "plt.gca().set_aspect('equal') # ustawienie takiej samej skali na osiach x i y\n",
        "plt.show()"
      ]
    },
    {
      "cell_type": "markdown",
      "metadata": {
        "id": "QDUHxPokj_HL"
      },
      "source": [
        "## Przykład prostej implementacji wektorów w Pythonie\n",
        "\n",
        "Dane są wektory $\\mathbf{a}=[1, 2]$ i $\\mathbf{b}=[3, 4]$ i chcemy policzyć ich sumę $\\mathbf{c}=\\mathbf{a}+\\mathbf{b}= [1+3, 2+4] = [4, 6]$"
      ]
    },
    {
      "cell_type": "code",
      "execution_count": null,
      "metadata": {
        "id": "QkF_d8yjj_HL",
        "outputId": "51c64289-ac33-4f3f-8c1e-31e2ce06201d"
      },
      "outputs": [
        {
          "data": {
            "text/plain": [
              "[4, 6]"
            ]
          },
          "execution_count": 26,
          "metadata": {},
          "output_type": "execute_result"
        }
      ],
      "source": [
        "import sympy as sp # importuj moduł sympy\n",
        "\n",
        "a=[1, 2] # wektor a\n",
        "b=[3, 4] # wektor b\n",
        "c = [a[0] + b[0], a[1] + b[1]] # suma wektorów a i b\n",
        "c # wyświetlenie wyniku\n"
      ]
    },
    {
      "cell_type": "markdown",
      "metadata": {
        "id": "ArxVlyGij_HL"
      },
      "source": [
        "## Przykład lepszej implementacji wektorów w Pythonie\n",
        "\n",
        "Wektory zapisz jako macierze kolumnowe. Wtedy dodawanie wektorów jest takie samo jak dodawanie macierzy."
      ]
    },
    {
      "cell_type": "code",
      "execution_count": null,
      "metadata": {
        "id": "ySbiZs8pj_HM",
        "outputId": "59f1558b-5a17-451a-cf42-b3b40059fe4a"
      },
      "outputs": [
        {
          "data": {
            "text/latex": [
              "$\\displaystyle \\left[\\begin{matrix}12\\\\5\\\\18\\end{matrix}\\right]$"
            ],
            "text/plain": [
              "Matrix([\n",
              "[12],\n",
              "[ 5],\n",
              "[18]])"
            ]
          },
          "execution_count": 1,
          "metadata": {},
          "output_type": "execute_result"
        }
      ],
      "source": [
        "import sympy as sp\n",
        "\n",
        "# Definicje wektorów\n",
        "a = sp.Matrix([1, 2, 3])\n",
        "b = sp.Matrix([4, 5, 6])\n",
        "c= sp.Matrix([7, 0, 9])\n",
        "d= sp.Matrix([0, 2, 0])\n",
        "\n",
        "a+b+c-d # OPewna operacja dodawania i odejmowania wektorów"
      ]
    },
    {
      "cell_type": "markdown",
      "metadata": {
        "id": "SjXRKx2Yj_HM"
      },
      "source": [
        "## Dodawanie wektorów na wykresie\n",
        "\n",
        "Przykład: $\\mathbf{a}=[2,1]$ i $\\mathbf{b}=[1,2]$ prowadzi do wektora $\\mathbf{c}=\\mathbf{a}+\\mathbf{b}=[3,3]$."
      ]
    },
    {
      "cell_type": "code",
      "execution_count": null,
      "metadata": {
        "id": "E4jPVStyj_HM",
        "outputId": "ccef1306-5963-4d23-d03f-7264e98f5571"
      },
      "outputs": [
        {
          "data": {
            "image/png": "[encoded data removed]",
            "text/plain": [
              "<Figure size 640x480 with 1 Axes>"
            ]
          },
          "metadata": {},
          "output_type": "display_data"
        }
      ],
      "source": [
        "import matplotlib.pyplot as plt # import modułu matplotlib.pyplot #przykład dodawania wektorów w przestrzeni dwuwymiarowej\n",
        "\n",
        "plt.figure() # utworzenie nowego rysunku\n",
        "plt.quiver(0, 0, 2, 1, angles='xy', scale_units='xy', scale=1, color='r') # szybki sposób na rysowanie wektorów quiver(x_początek, y_początek, x_koniec, y_koniec)\n",
        "plt.quiver(0, 0, 1, 2, angles='xy', scale_units='xy', scale=1, color='b') # szybki sposób na rysowanie wektorów quiver(x_początek, y_początek, x_koniec, y_koniec)\n",
        "plt.quiver(0, 0, 3, 3, angles='xy', scale_units='xy', scale=1, color='g') # szybki sposób na rysowanie wektorów quiver(x_początek, y_początek, x_koniec, y_koniec)\n",
        "plt.xlim(-1, 4) # ustawienie zakresu osi x\n",
        "plt.ylim(-1, 4) # ustawienie zakresu osi y\n",
        "plt.grid(True) # włączenie siatki\n",
        "plt.gca().set_aspect('equal') # ustawienie takiej samej skali na osiach x i y\n",
        "plt.show()"
      ]
    },
    {
      "cell_type": "markdown",
      "metadata": {
        "id": "0DDR1-R_j_HM"
      },
      "source": [
        "## Układy współrzędnych na płaszczyźnie i w przestrzeni\n",
        "\n",
        "**Układ współrzędnych kartezjańskich** jest podstawowym układem współrzędnych, w którym punkty w przestrzeni są określane przez ich odległości od ustalonych osi: $x$, $y$ (dla 2D) i $z$ (dla 3D).\n",
        "\n",
        "- W 2D, każdy punkt można zapisać jako $(x, y)$.\n",
        "- W 3D, punkty mają postać $(x, y, z)$.\n",
        "\n",
        "**Układ biegunowy** jest używany w 2D i definiuje punkt poprzez odległość od punktu początkowego (r) oraz kąt (θ) względem osi odniesienia.\n",
        "\n",
        "**Układ sferyczny** jest używany w 3D i definiuje punkt poprzez odległość od punktu początkowego (r), kąt azymutu (θ) i kąt elewacji (φ).\n",
        "\n",
        "Wektory można reprezentować za pomocą składowych w układzie kartezjańskim, gdzie każda składowa odpowiada odległości punktu od odpowiedniej osi współrzędnych.\n",
        "\n",
        "- Dla wektora w przestrzeni dwuwymiarowej: $\\mathbf{a} = [a_x, a_y]= a_x\\hat{\\mathbf{i}} + a_y\\hat{\\mathbf{j}}$\n",
        "- Dla wektora w przestrzeni trójwymiarowej:$\\mathbf{a} = [a_x, a_y, a_z] = a_x\\hat{\\mathbf{i}} + a_y\\hat{\\mathbf{j}} + a_z\\hat{\\mathbf{k}}$\n",
        "\n",
        "## Baza\n",
        "\n",
        "**Baza** wektorów to zbiór wektorów, które rozpięcie tworzy przestrzeń wektorową. W przestrzeni kartezjańskiej standardową bazą są wektory $\\hat{\\mathbf{i}}, \\hat{\\mathbf{j}}, \\hat{\\mathbf{k}}$.\n",
        "\n",
        "Dla 2D:\n",
        "\n",
        "$$\n",
        "\\hat{\\mathbf{i}} = [1, 0], \\quad \\hat{\\mathbf{j}} = [0, 1]\n",
        "$$\n",
        "\n",
        "Dla 3D:\n",
        "\n",
        "$$\n",
        "\\hat{\\mathbf{i}} = [1, 0, 0], \\quad \\hat{\\mathbf{j}} = [0, 1, 0], \\quad \\hat{\\mathbf{k}} = [0, 0, 1]\n",
        "$$\n",
        "\n",
        "Tak zdefiniowane wektory bazowe są jednostkowe i prostopadłe do siebie.\n",
        "\n",
        "### Znajdowanie współrzędnych wektora w nowej bazie\n",
        "\n",
        "Aby znaleźć współrzędne wektora $\\mathbf{v}$ w nowej bazie $\\{\\mathbf{b_1}, \\mathbf{b_2}, \\mathbf{b_3}\\}$, należy wyrazić $\\mathbf{v}$ jako kombinację liniową wektorów bazy.\n",
        "\n",
        "$$\n",
        "\\mathbf{v} = c_1 \\mathbf{b_1} + c_2 \\mathbf{b_2} + c_3 \\mathbf{b_3}\n",
        "$$\n",
        "\n",
        "Współczynniki $c_1, c_2, c_3$ są współrzędnymi wektora $\\mathbf{v}$ w nowej bazie."
      ]
    },
    {
      "cell_type": "markdown",
      "metadata": {
        "id": "_smn-KXtj_HN"
      },
      "source": [
        "---\n",
        "\n",
        "## Zadania dla studentów\n",
        "\n",
        "A. Przez jaką liczbę należy pomnożyć wektor $\\mathbf{a} = [3, 4]$, aby jego długość była równa 1?\n",
        "\n",
        "B. Policz długość wektora $\\mathbf{b} = [1, 1]$ i znajdź wersor tego wektora.\n",
        "\n",
        "C. Zaprezentuj wektor i wersor z poprzedniego zadania na wykresie.\n",
        "\n",
        "D. Policz długość wektora $\\mathbf{c} = [1, 2, 3]$ i znajdź wersor tego wektora.\n",
        "\n",
        "E. Znajdź współrzędne kartezjańskiego wektora $\\mathbf{v} = [2, 3, 4]$ w bazie $\\{\\mathbf{b_1} = [1, 0, 1], \\mathbf{b_2} = [0, 1, 0], \\mathbf{b_3} = [1, 0, -1]\\}$."
      ]
    },
    {
      "cell_type": "code",
      "source": [
        "# A\n",
        "\n",
        "import sympy as sp\n",
        "\n",
        "a = sp.Matrix([3, 4])  # Definiujemy wektor a (Определяем вектор a)\n",
        "\n",
        "dlugA = sp.sqrt(a[0]**2 + a[1]**2)  # Obliczamy długość wektora a (Вычисляем длину вектора a)\n",
        "print(dlugA)\n",
        "\n",
        "a1 = a * 1/5  # Mnożymy wektor a przez 1/5 (Умножаем вектор a на 1/5)\n",
        "dlugA1 = sp.sqrt(a1[0]**2 + a1[1]**2)  # Obliczamy długość nowego wektora a1 (Вычисляем длину нового вектора a1)\n",
        "dlugA1\n"
      ],
      "metadata": {
        "colab": {
          "base_uri": "https://localhost:8080/",
          "height": 55
        },
        "id": "AUjkkHlPkVjX",
        "outputId": "5ad915ad-ef7b-45b9-d67a-b3f101cf8bf9"
      },
      "execution_count": 1,
      "outputs": [
        {
          "output_type": "stream",
          "name": "stdout",
          "text": [
            "5\n"
          ]
        },
        {
          "output_type": "execute_result",
          "data": {
            "text/plain": [
              "1"
            ],
            "text/latex": "$\\displaystyle 1$"
          },
          "metadata": {},
          "execution_count": 1
        }
      ]
    },
    {
      "cell_type": "code",
      "source": [
        "# B\n",
        "\n",
        "import sympy as sp\n",
        "\n",
        "a = sp.Matrix([1, 1])\n",
        "\n",
        "dlug = sp.sqrt(a[0]**2 + a[1]**2)\n",
        "print(f\"Długość wektora b = {dlug}\")\n",
        "\n",
        "wersor =  a / dlug\n",
        "wersor"
      ],
      "metadata": {
        "colab": {
          "base_uri": "https://localhost:8080/",
          "height": 85
        },
        "id": "-uprMWymqPxv",
        "outputId": "203a59c7-d62f-4387-94d2-d7179d923289"
      },
      "execution_count": 4,
      "outputs": [
        {
          "output_type": "stream",
          "name": "stdout",
          "text": [
            "Długość wektora b = sqrt(2)\n"
          ]
        },
        {
          "output_type": "execute_result",
          "data": {
            "text/plain": [
              "Matrix([\n",
              "[sqrt(2)/2],\n",
              "[sqrt(2)/2]])"
            ],
            "text/latex": "$\\displaystyle \\left[\\begin{matrix}\\frac{\\sqrt{2}}{2}\\\\\\frac{\\sqrt{2}}{2}\\end{matrix}\\right]$"
          },
          "metadata": {},
          "execution_count": 4
        }
      ]
    },
    {
      "cell_type": "code",
      "source": [
        "# C\n",
        "\n",
        "import numpy as np\n",
        "import matplotlib.pyplot as plt\n",
        "\n",
        "# Definiujemy wektor b jako tablicę (Определяем вектор b как массив)\n",
        "b = np.array([1, 1])\n",
        "\n",
        "# Obliczamy długość wektora b (Обсчитываем длину вектора b)\n",
        "dlug = np.sqrt(b[0]**2 + b[1]**2)\n",
        "\n",
        "# Normalizujemy wektor (znajdujemy wersor) (Нормируем вектор - находим его версор)\n",
        "wersor = b / dlug\n",
        "\n",
        "# Ustawienia wykresu (Настройки графика)\n",
        "plt.figure(figsize=(6, 6))\n",
        "plt.grid(True)\n",
        "plt.axhline(0, color='black', linewidth=0.5)\n",
        "plt.axvline(0, color='black', linewidth=0.5)\n",
        "\n",
        "# Wyświetlanie wektora b i jego wersora (Отображение вектора b и его нормализованной версии - версора)\n",
        "plt.quiver(0, 0, b[0], b[1], angles='xy', scale_units='xy', scale=1, color='blue', label='Wektor b (1, 1)')\n",
        "plt.quiver(0, 0, wersor[0], wersor[1], angles='xy', scale_units='xy', scale=1, color='green', label=f'Wersor b ({wersor[0]:.2f}, {wersor[1]:.2f})')\n",
        "\n",
        "# Ustawienia osi i legendy (Настройки осей и легенды)\n",
        "plt.xlim(-1, 2)\n",
        "plt.ylim(-1, 2)\n",
        "plt.xlabel('Oś X')\n",
        "plt.ylabel('Oś Y')\n",
        "plt.legend()\n",
        "plt.title('Wektor b i jego wersor')\n",
        "plt.show()\n"
      ],
      "metadata": {
        "colab": {
          "base_uri": "https://localhost:8080/",
          "height": 564
        },
        "id": "94PS_Nvay4O4",
        "outputId": "28d3a526-8247-4ca0-ca81-993906cfe2a0"
      },
      "execution_count": 5,
      "outputs": [
        {
          "output_type": "display_data",
          "data": {
            "text/plain": [
              "<Figure size 600x600 with 1 Axes>"
            ],
            "image/png": "[encoded data removed]"
          },
          "metadata": {}
        }
      ]
    },
    {
      "cell_type": "code",
      "source": [
        "# D\n",
        "\n",
        "import sympy as sp  # Importujemy bibliotekę SymPy (Импортируем библиотеку SymPy)\n",
        "\n",
        "# Definiujemy wektor a jako macierz (Определяем вектор a как матрицу)\n",
        "a = sp.Matrix([1, 2, 3])\n",
        "\n",
        "# Obliczamy długość wektora a (Обсчитываем длину вектора a)\n",
        "dlug = sp.sqrt(a[0]**2 + a[1]**2 + a[2]**2)\n",
        "print(f\"Długość wektora a = {dlug}\")\n",
        "\n",
        "# Normalizujemy wektor (znajdujemy wersor) (Нормируем вектор - находим его версор)\n",
        "wersor = a / dlug\n",
        "wersor\n"
      ],
      "metadata": {
        "id": "Zb4v7IUC0fTX",
        "outputId": "55d14c11-ae1b-4107-e226-763f5f3b4184",
        "colab": {
          "base_uri": "https://localhost:8080/",
          "height": 105
        }
      },
      "execution_count": 8,
      "outputs": [
        {
          "output_type": "stream",
          "name": "stdout",
          "text": [
            "Długość wektora a = sqrt(14)\n"
          ]
        },
        {
          "output_type": "execute_result",
          "data": {
            "text/plain": [
              "Matrix([\n",
              "[  sqrt(14)/14],\n",
              "[   sqrt(14)/7],\n",
              "[3*sqrt(14)/14]])"
            ],
            "text/latex": "$\\displaystyle \\left[\\begin{matrix}\\frac{\\sqrt{14}}{14}\\\\\\frac{\\sqrt{14}}{7}\\\\\\frac{3 \\sqrt{14}}{14}\\end{matrix}\\right]$"
          },
          "metadata": {},
          "execution_count": 8
        }
      ]
    },
    {
      "cell_type": "markdown",
      "metadata": {
        "id": "am66RhtFj_HN"
      },
      "source": []
    }
  ],
  "metadata": {
    "kernelspec": {
      "display_name": "Python 3",
      "language": "python",
      "name": "python3"
    },
    "language_info": {
      "codemirror_mode": {
        "name": "ipython",
        "version": 3
      },
      "file_extension": ".py",
      "mimetype": "text/x-python",
      "name": "python",
      "nbconvert_exporter": "python",
      "pygments_lexer": "ipython3",
      "version": "3.11.9"
    },
    "colab": {
      "provenance": [],
      "include_colab_link": true
    }
  },
  "nbformat": 4,
  "nbformat_minor": 0
}