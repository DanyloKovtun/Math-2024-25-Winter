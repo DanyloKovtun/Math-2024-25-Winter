{
  "cells": [
    {
      "cell_type": "markdown",
      "metadata": {
        "id": "view-in-github",
        "colab_type": "text"
      },
      "source": [
        "<a href=\"https://colab.research.google.com/github/Sokolik-data/Math-2024-25-Winter/blob/main/Notebooks_PL/01_Algebra_Liniowa/03_Wektory/LA_Wektory_iloczyny.ipynb\" target=\"_parent\"><img src=\"https://colab.research.google.com/assets/colab-badge.svg\" alt=\"Open In Colab\"/></a>"
      ]
    },
    {
      "cell_type": "markdown",
      "metadata": {
        "id": "q2mZ0HJLTqET"
      },
      "source": [
        "# Wektory - Iloczyn skalarny, wektorowy, mieszany"
      ]
    },
    {
      "cell_type": "markdown",
      "metadata": {
        "id": "GU9JWcpfTqEV"
      },
      "source": [
        "\n",
        "## Iloczyn skalarny\n",
        "\n",
        "Iloczyn skalarny (zwany również iloczynem wewnętrznym) dwóch wektorów to operacja, która zwraca skalarną wartość. Jest definiowany jako suma iloczynów odpowiadających sobie współrzędnych dwóch wektorów.\n",
        "\n",
        "Dla dwóch wektorów $\\mathbf{a}$ i $\\mathbf{b}$ w przestrzeni $\\mathbb{R}^n$, gdzie:\n",
        "\n",
        "$$\n",
        "\\mathbf{a} = [a_1, a_2, \\dots, a_n], \\quad \\mathbf{b} = [b_1, b_2, \\dots, b_n]\n",
        "$$\n",
        "\n",
        "Iloczyn skalarny definiuje się następująco:\n",
        "\n",
        "$$\n",
        "\\mathbf{a} \\cdot \\mathbf{b} = a_1b_1 + a_2b_2 + \\dots + a_nb_n = \\sum_{i=1}^{n} a_i b_i\n",
        "$$\n",
        "\n",
        "Przykład dla przestrzeni trójwymiarowej ($ \\mathbb{R}^3 $):\n",
        "\n",
        "Dla wektorów $\\mathbf{a} = [a_1, a_2, a_3]$ oraz $\\mathbf{b} = [b_1, b_2, b_3]$, iloczyn skalarny to:\n",
        "\n",
        "$$\n",
        "\\mathbf{a} \\cdot \\mathbf{b} = a_1b_1 + a_2b_2 + a_3b_3\n",
        "$$\n",
        "\n",
        "Iloczyn skalarny zwraca liczbę, która jest miarą \"podobieństwa kierunku\" dwóch wektorów. Jeśli $\\mathbf{a} \\cdot \\mathbf{b} = 0$, to wektory są prostopadłe.\n",
        "\n",
        "Alternatywnie, iloczyn skalarny można zapisać jako:\n",
        "\n",
        "$$\n",
        "\\mathbf{a} \\cdot \\mathbf{b} = \\|\\mathbf{a}\\| \\|\\mathbf{b}\\| \\cos(\\theta),\n",
        "$$\n",
        "czyli iloczyn długości wektorów $\\mathbf{a}$ i $\\mathbf{b}$ pomnożony przez cosinus kąta między nimi."
      ]
    },
    {
      "cell_type": "markdown",
      "metadata": {
        "id": "Qu0kxVhnTqEX"
      },
      "source": [
        "## Iloczyn wektorowy\n",
        "\n",
        "Iloczyn wektorowy (zwany również iloczynem zewnętrznym) to operacja, która zwraca nowy wektor prostopadły do dwóch wektorów wyjściowych. Jest zdefiniowany tylko w przestrzeni trójwymiarowej $ \\mathbb{R}^3 $.\n",
        "\n",
        "Dla dwóch wektorów $ \\mathbf{a} = [a_1, a_2, a_3] $ oraz $ \\mathbf{b} = [b_1, b_2, b_3] $, iloczyn wektorowy $ \\mathbf{a} \\times \\mathbf{b} $ definiuje się jako:\n",
        "\n",
        "$$ \\mathbf{a} \\times \\mathbf{b} =\n",
        "\\begin{vmatrix}\n",
        "\\mathbf{i} & \\mathbf{j} & \\mathbf{k} \\\\\n",
        "a_1 & a_2 & a_3 \\\\\n",
        "b_1 & b_2 & b_3\n",
        "\\end{vmatrix}\n",
        "$$\n",
        "\n",
        "Gdzie $ \\mathbf{i}, \\mathbf{j}, \\mathbf{k} $ to wektory jednostkowe wzdłuż osi $ x, y, z $. Dość zabawnie, aby policzyć iloczyny wektorowy i otrzymać finalny wektor używamy wyznacznika (skalara) z macierzy (tensor drugiego rzędu), wierszami której są wektory bazowe (wektory) i składowe wektorów (skalary).\n",
        "\n",
        "Iloczyn wektorowy można zapisać w postaci rozwiniętej:\n",
        "\n",
        "$$ \\mathbf{a} \\times \\mathbf{b} = \\left( a_2b_3 - a_3b_2 \\right)\\mathbf{i} - \\left( a_1b_3 - a_3b_1 \\right)\\mathbf{j} + \\left( a_1b_2 - a_2b_1 \\right)\\mathbf{k} $$\n",
        "\n",
        "Wynikiem iloczynu wektorowego jest nowy wektor:\n",
        "\n",
        "$$ \\mathbf{c} = \\mathbf{a} \\times \\mathbf{b} = [a_2b_3 - a_3b_2, a_3b_1 - a_1b_3, a_1b_2 - a_2b_1] $$\n",
        "\n",
        "Iloczyn wektorowy zwraca wektor $\\mathbf{c}$ prostopadły do płaszczyzny wyznaczonej przez $ \\mathbf{a} $ i $ \\mathbf{b} $, a jego długość jest równa powierzchni równoległoboku, którego boki są wyznaczone przez wektory $ \\mathbf{a} $ i $ \\mathbf{b} $\n",
        "$$\n",
        "|\\mathbf{c}| = |\\mathbf{a}| |\\mathbf{b}| \\sin \\theta\n",
        "$$\n",
        "\n",
        "gdzie $\\theta$ jest kątem między wektorami. Kierunek wektora $\\vec{c}$ określa reguła prawej dłoni."
      ]
    },
    {
      "cell_type": "markdown",
      "metadata": {
        "id": "Yk3kFLk0TqEY"
      },
      "source": [
        "## Iloczyn mieszany\n",
        "\n",
        "Iloczyn mieszany trzech wektorów $\\mathbf{a}, \\mathbf{b}, \\mathbf{c}$ jest definiowany jako:\n",
        "\n",
        "$$\n",
        "\\mathbf{a} \\cdot \\left( \\mathbf{b} \\times \\mathbf{c} \\right)\n",
        "$$\n",
        "\n",
        "Jest to równoważne iloczynowi skalarnemu $\\mathbf{a} \\times \\left( \\mathbf{b} \\times \\mathbf{c} \\right)$.\n",
        "\n",
        "Iloczyn mieszany jest równy zero, jeśli wektory $\\mathbf{a}, \\mathbf{b}, \\mathbf{c}$ są współliniowe lub równoległe.\n",
        "\n",
        "Objętość równoległościanu wyznaczonego przez trzy wektory $\\mathbf{a}, \\mathbf{b}, \\mathbf{c}$ jest równa wartości bezwzględnej iloczynu mieszanej tych wektorów."
      ]
    },
    {
      "cell_type": "markdown",
      "metadata": {
        "id": "31AG6ZgkTqEZ"
      },
      "source": [
        "## Implementacja"
      ]
    },
    {
      "cell_type": "code",
      "execution_count": null,
      "metadata": {
        "id": "uyLzvqQMTqEa"
      },
      "outputs": [],
      "source": [
        "import sympy as sp\n",
        "# Definicje wektorów\n",
        "a = sp.Matrix([1, 2, 3])\n",
        "b = sp.Matrix([4, 5, 6])\n",
        "c= sp.Matrix([7, 0, 9])\n",
        "d= sp.Matrix([0, 2, 0])"
      ]
    },
    {
      "cell_type": "code",
      "execution_count": null,
      "metadata": {
        "id": "4wanltY1TqEc",
        "outputId": "1b7ef3ea-52fc-4742-f830-3b2621d9e983",
        "colab": {
          "base_uri": "https://localhost:8080/",
          "height": 78
        }
      },
      "outputs": [
        {
          "output_type": "execute_result",
          "data": {
            "text/plain": [
              "Matrix([\n",
              "[7],\n",
              "[0],\n",
              "[9]])"
            ],
            "text/latex": "$\\displaystyle \\left[\\begin{matrix}7\\\\0\\\\9\\end{matrix}\\right]$"
          },
          "metadata": {},
          "execution_count": 2
        }
      ],
      "source": [
        "# wyświetlenie wektora c\n",
        "c"
      ]
    },
    {
      "cell_type": "code",
      "execution_count": null,
      "metadata": {
        "id": "3tLZgLlTTqEe",
        "outputId": "f40f7db1-f629-4629-a928-415da2b2f3ee",
        "colab": {
          "base_uri": "https://localhost:8080/",
          "height": 78
        }
      },
      "outputs": [
        {
          "output_type": "execute_result",
          "data": {
            "text/plain": [
              "Matrix([\n",
              "[5],\n",
              "[7],\n",
              "[9]])"
            ],
            "text/latex": "$\\displaystyle \\left[\\begin{matrix}5\\\\7\\\\9\\end{matrix}\\right]$"
          },
          "metadata": {},
          "execution_count": 3
        }
      ],
      "source": [
        "# dodawanie wektorów a i b\n",
        "a+b"
      ]
    },
    {
      "cell_type": "code",
      "execution_count": null,
      "metadata": {
        "id": "5-u16RL9TqEf",
        "outputId": "5a61a8b4-df73-4ead-f726-24c9c856f9a8",
        "colab": {
          "base_uri": "https://localhost:8080/"
        }
      },
      "outputs": [
        {
          "output_type": "execute_result",
          "data": {
            "text/plain": [
              "True"
            ]
          },
          "metadata": {},
          "execution_count": 4
        }
      ],
      "source": [
        "# iloczyn skalarny a i b\n",
        "(1*4+2*5+3*6)==a.dot(b)"
      ]
    },
    {
      "cell_type": "code",
      "execution_count": null,
      "metadata": {
        "id": "Rws26fkKTqEf",
        "outputId": "fed74928-2c65-4810-ee3b-669761439e1d",
        "colab": {
          "base_uri": "https://localhost:8080/"
        }
      },
      "outputs": [
        {
          "output_type": "execute_result",
          "data": {
            "text/plain": [
              "True"
            ]
          },
          "metadata": {},
          "execution_count": 5
        }
      ],
      "source": [
        "#iloczyn wektorowy a i c\n",
        "# a = [1, 2, 3]\n",
        "# c= [7, 0, 9]\n",
        "\n",
        "# Pomocniczo zapiszmy wektory jako macierze 3x3\n",
        "# i, j, k\n",
        "# 1, 2, 3\n",
        "# 7, 0, 9\n",
        "\n",
        "# Teraz\n",
        "comp1 = (2*9-3*0)\n",
        "comp2 = -(1*9-3*7)\n",
        "comp3 = (1*0-2*7)\n",
        "\n",
        "# Wynik\n",
        "sp.Matrix([comp1, comp2, comp3])==a.cross(c)"
      ]
    },
    {
      "cell_type": "code",
      "execution_count": null,
      "metadata": {
        "id": "hyAn8gHNTqEg",
        "outputId": "6b61316b-fd25-4f24-9ffa-0bb0e91aba2b",
        "colab": {
          "base_uri": "https://localhost:8080/"
        }
      },
      "outputs": [
        {
          "output_type": "execute_result",
          "data": {
            "text/plain": [
              "True"
            ]
          },
          "metadata": {},
          "execution_count": 6
        }
      ],
      "source": [
        "# Prostopadłość wektorów\n",
        "# c= [7, 0, 9]\n",
        "# d= [0, 2, 0]\n",
        "\n",
        "# Jeśli iloczyn skalarny wektorów jest równy 0, to znaczy, że są one prostopadłe\n",
        "iloczyn_skalarny = 7*0+0*2+9*0\n",
        "iloczyn_skalarny==0"
      ]
    },
    {
      "cell_type": "markdown",
      "metadata": {
        "id": "9LXqpw_2TqEh"
      },
      "source": [
        "## Zastosowania\n",
        "\n",
        "### Obliczanie kąta między wektorami\n",
        "\n",
        "$$\n",
        "\\cos \\theta = \\frac{\\mathbf{a} \\cdot \\mathbf{b}}{\\|\\mathbf{a}\\| \\|\\mathbf{b}\\|}\n",
        "$$\n",
        "\n",
        "### Sprawdzanie prostopadłości wektorów\n",
        "\n",
        "Wektory $\\mathbf{a}$ i $\\mathbf{b}$ są prostopadłe, jeśli ich iloczyn skalarny wynosi zero:\n",
        "$$\n",
        "\\mathbf{a} \\cdot \\mathbf{b} = 0\n",
        "\\quad \\Leftrightarrow \\quad\n",
        " \\mathbf{a} \\perp \\mathbf{b}\n",
        "$$\n",
        "\n",
        "### Znajdowanie rzutów wektorów na inne wektory\n",
        "\n",
        "$$\n",
        "\\text{Rzut} = \\frac{\\mathbf{a} \\cdot \\mathbf{b}}{\\|\\mathbf{b}\\|}\n",
        "$$\n",
        "\n",
        "### Obliczanie pracy wykonanej przez siłę w fizyce\n",
        "\n",
        "Dla siły $\\mathbf{F} = (F_x, F_y, F_z)$ działającej wzdłuż przemieszczenia $\\mathbf{d} = (d_x, d_y, d_z)$, praca obliczana jest zgodnie ze wzorem:\n",
        "\n",
        "$$\n",
        "W = \\mathbf{F} \\cdot \\mathbf{d} = |\\mathbf{F}| |\\mathbf{d}| \\cos \\theta = F_x d_x + F_y d_y + F_z d_z\n",
        "$$"
      ]
    },
    {
      "cell_type": "markdown",
      "metadata": {
        "id": "Dj5F2JhVTqEi"
      },
      "source": [
        "### Moment siły\n",
        "\n",
        "W fizyce: moment siły (moment obrotowy) to iloczyn wektorowy wektora siły i ramienia:\n",
        "\n",
        "$$\n",
        "\\mathbf{M} = \\mathbf{r} \\times \\mathbf{F}\n",
        "$$\n",
        "\n",
        "### Obliczanie pola równoległoboku\n",
        "\n",
        "Pole równoległoboku rozpiętego na dwóch wektorach:\n",
        "\n",
        "$$\n",
        "\\text{Area}_{r} = \\mathbf{a} \\times \\mathbf{b} = |\\mathbf{a}| |\\mathbf{b}| \\sin \\theta\n",
        "$$\n",
        "\n",
        "### Obliczanie pola trójkąta\n",
        "\n",
        "Pole trójkąta rozpiętego na dwóch wektorach $\\mathbf{a}$ i $\\mathbf{b}$:\n",
        "\n",
        "$$\n",
        "\\text{Area}_{t} = \\frac{1}{2} |\\mathbf{a} \\times \\mathbf{b}|\n",
        "$$"
      ]
    },
    {
      "cell_type": "markdown",
      "metadata": {
        "id": "XylyUD1VTqEj"
      },
      "source": [
        "### Obliczanie objętości równoległościanów i czworościanów\n",
        "\n",
        "Iloczyn mieszany wektorów jest używany do obliczania objętości równoległościanów i czworościanów. Dla trzech wektorów **$\\mathbf{a}$**, **$\\mathbf{b}$** i **$\\mathbf{c}$**, objętość równoległościanu jest dana wzorem:\n",
        "\n",
        "$$\n",
        "V = |\\mathbf{a} \\cdot (\\mathbf{b} \\times \\mathbf{c})|\n",
        "$$\n",
        "(Uwaga: **| |** oznacza tutaj wartość bezwzględną, a nie długość!)\n",
        "\n",
        "### Sprawdzanie współpłaszczyznowości trzech wektorów\n",
        "\n",
        "Jeśli iloczyn mieszany trzech wektorów jest równy zeru, oznacza to, że wektory są współpłaszczyznowe. W przeciwnym razie, tworzą one czworościan."
      ]
    },
    {
      "cell_type": "markdown",
      "metadata": {
        "id": "32R5LHItTqEj"
      },
      "source": [
        "---\n",
        "\n",
        "## Zadania dla studentów\n",
        "\n",
        "A. Zrealizuj dodawanie wektora $[2, 1]$ do wektora $[-1, 1]$. Zaznacz oba wektory oraz ich sumę na wykresie.\n",
        "\n",
        "B. Policz pole trójkąta rozpiętego na wektorach $[2, 1]$ i $[-1, 1]$.\n",
        "\n",
        "C. Policz objętość równoległościanu rozpiętego na wektorach $[2, 1]$, $[-1, 1]$ i $[1, 2]$.\n",
        "\n",
        "D. Sprawdź, czy wektory $[2, 1]$ i $[-1, 1]$ są prostopadłe.\n",
        "\n",
        "E. Policz kąt w stopniach między wektorami $[4,2,1]$ a $[1,3,2]$.\n",
        "\n",
        "F. Dla wektorów trójwymiarowych: $\\mathbf{a}=[a_x, a_y, a_z]$, $\\mathbf{b}=[b_x, b_y, b_z]$, $\\mathbf{c}=[c_x, c_y, c_z]$, udowodnij, że spełniona jest tożsamość:\n",
        "\n",
        "$$\n",
        "\\mathbf{a} \\times (\\mathbf{b} \\times \\mathbf{c}) = (\\mathbf{a} \\cdot \\mathbf{c}) \\mathbf{b} - (\\mathbf{a} \\cdot \\mathbf{b}) \\mathbf{c}.\n",
        "$$"
      ]
    },
    {
      "cell_type": "code",
      "source": [
        "# A\n",
        "\n",
        "import numpy as np  # Importujemy bibliotekę NumPy (Импортируем библиотеку NumPy(не сампи потому что мы не рувнаня решаем))\n",
        "import matplotlib.pyplot as plt  # Importujemy bibliotekę Matplotlib do tworzenia wykresów (Импортируем библиотеку Matplotlib для создания графиков)\n",
        "\n",
        "# Definiujemy wektory (Определяем векторы)\n",
        "A = np.array([2, 1])  # Tworzymy wektor A jako tablicę NumPy (Создаем вектор A как массив NumPy)\n",
        "B = np.array([-1, 1])  # Tworzymy wektor B jako tablicę NumPy (Создаем вектор B как массив NumPy)\n",
        "sum_vector = A + B  # Obliczamy sumę wektorów A i B (Вычисляем сумму векторов A и B)\n",
        "\n",
        "# Ustawienia wykresu (Настройки графика)\n",
        "plt.figure()  # Tworzymy nową figurę dla wykresu (Создаем новую фигуру для графика)\n",
        "plt.grid()  # Włączamy siatkę na wykresie (Включаем сетку на графике)\n",
        "plt.axhline(0, color='black', lw=1)  # Rysujemy poziomą oś X (Рисуем горизонтальную ось X)\n",
        "plt.axvline(0, color='black', lw=1)  # Rysujemy pionową oś Y (Рисуем вертикальную ось Y)\n",
        "\n",
        "# Wyświetlamy wektory A, B oraz ich sumę (Отображаем векторы A, B и их сумму)\n",
        "plt.quiver(0, 0, A[0], A[1], angles='xy', scale_units='xy', scale=1, color='blue', label='Wektor A [2, 1]')  # Rysujemy wektor A\n",
        "plt.quiver(0, 0, B[0], B[1], angles='xy', scale_units='xy', scale=1, color='green', label='Wektor B [-1, 1]')  # Rysujemy wektor B\n",
        "plt.quiver(0, 0, sum_vector[0], sum_vector[1], angles='xy', scale_units='xy', scale=1, color='red', label='Suma A + B [1, 2]')  # Rysujemy sumę wektorów A i B\n",
        "\n",
        "# Ustawienia osi wykresu (Настройки осей графика)\n",
        "plt.xlim(-2, 5)  # Ustawiamy zakres osi X (Устанавливаем диапазон оси X)\n",
        "plt.ylim(-2, 5)  # Ustawiamy zakres osi Y (Устанавливаем диапазон оси Y)\n",
        "plt.xlabel('x')  # Etykieta osi X (Подпись оси X)\n",
        "plt.ylabel('y')  # Etykieta osi Y (Подпись оси Y)\n",
        "plt.title('Dodawanie wektorów')  # Tytuł wykresu (Заголовок графика)\n",
        "plt.legend()  # Pokazujemy legendę, która identyfikuje wektory (Отображаем легенду, которая идентифицирует векторы)\n",
        "plt.grid(True)  # Włączamy siatkę na wykresie (Включаем сетку на графике)\n",
        "plt.axhline(0, color='black', lw=0.5, ls='--')  # Rysujemy przerywaną poziomą oś X (Рисуем пунктирную горизонтальную ось X)\n",
        "plt.axvline(0, color='black', lw=0.5, ls='--')  # Rysujemy przerywaną pionową oś Y (Рисуем пунктирную вертикальную ось Y)\n",
        "plt.show()  # Wyświetlamy wykres (Отображаем график)\n",
        "\n"
      ],
      "metadata": {
        "id": "hkG5Hg80D5CJ",
        "outputId": "62cce5b9-b5cc-401c-ceea-5dbe34f8a99f",
        "colab": {
          "base_uri": "https://localhost:8080/",
          "height": 472
        }
      },
      "execution_count": null,
      "outputs": [
        {
          "output_type": "display_data",
          "data": {
            "text/plain": [
              "<Figure size 640x480 with 1 Axes>"
            ],
            "image/png": "[encoded data removed]"
          },
          "metadata": {}
        }
      ]
    },
    {
      "cell_type": "code",
      "source": [
        "# B\n",
        "\n",
        "import sympy as sp\n",
        "\n",
        "# Definiujemy wektory A i B (Определяем векторы A и B)\n",
        "A = sp.Matrix([2, 1])\n",
        "B = sp.Matrix([-1, 1])\n",
        "\n",
        "# Obliczamy pole trójkąta rozpiętego na wektorach A i B (Вычисляем площадь треугольника, образованного векторами A и B)\n",
        "# Pole trójkąta = 1/2 * |A x B| (Площадь треугольника = 1/2 * |A x B|)\n",
        "cross_AB = (2 * 1) - (1 * (-1))  # Obliczamy iloczyn wektorowy A i B (Вычисляем векторное произведение A и B)\n",
        "\n",
        "\n",
        "# Obliczamy pole trójkąta (Вычисляем площадь треугольника)\n",
        "pole = 1/2 * cross_AB\n",
        "\n",
        "pole"
      ],
      "metadata": {
        "id": "S4ya7MCeN27d",
        "outputId": "e755b58a-3e58-403d-c010-b05a5af743f5",
        "colab": {
          "base_uri": "https://localhost:8080/"
        }
      },
      "execution_count": null,
      "outputs": [
        {
          "output_type": "execute_result",
          "data": {
            "text/plain": [
              "1.5"
            ]
          },
          "metadata": {},
          "execution_count": 10
        }
      ]
    },
    {
      "cell_type": "code",
      "source": [
        "# C\n",
        "\n",
        "import sympy as sp\n",
        "\n",
        "# Tworzymy trójwymiarowe wektory, dodając zerowy komponent dla osi z (Создаем трехмерные векторы, добавляя нулевой компонент для оси z)\n",
        "A = sp.Matrix([2, 1, 0])\n",
        "B = sp.Matrix([-1, 1, 0])\n",
        "C = sp.Matrix([1, 2, 0])\n",
        "\n",
        "# V = A * (B x C)\n",
        "# Wektorowe mnożenie wektorów B i C (Векторное произведение векторов B и C)\n",
        "# [i, j, k]\n",
        "# [-1, 1, 0]\n",
        "# [1, 2, 0]\n",
        "\n",
        "# [(1 * 0 - 0 * 2), (-1 * 0 - 0 *1), (-1 * 2 - 1 * 1)] == [0 , 0, -3]\n",
        "bcos = B.cross(C)  # Obliczamy iloczyn wektorowy B i C, co da nowy wektor (Вычисляем векторное произведение B и C, что дает новый вектор)\n",
        "\n",
        "\n",
        "# Skojarzenie A z iloczynem wektorowym B i C, co da skalarną wartość reprezentującą objętość (Скалярное произведение A и векторного произведения B и C)\n",
        "# 2 * 0 + 1 * 0 + 0 * (-3) == 0\n",
        "V = A.dot(bcos)  # Obliczamy iloczyn skalarny A z wektorem bcos, co odpowiada objętości równoległościanu (Вычисляем скалярное произведение A с вектором bcos, что соответствует объему параллелепипеда)\n",
        "\n",
        "V"
      ],
      "metadata": {
        "id": "S4K23sBMhRH1",
        "outputId": "0445f392-bf70-49cc-e706-bcdd25654bb1",
        "colab": {
          "base_uri": "https://localhost:8080/",
          "height": 37
        }
      },
      "execution_count": 1,
      "outputs": [
        {
          "output_type": "execute_result",
          "data": {
            "text/plain": [
              "0"
            ],
            "text/latex": "$\\displaystyle 0$"
          },
          "metadata": {},
          "execution_count": 1
        }
      ]
    },
    {
      "cell_type": "code",
      "source": [
        "# D\n",
        "\n",
        "import sympy as sp  # Importujemy bibliotekę sympy, która umożliwia pracę z symbolicznymi obliczeniami (Импортируем библиотеку sympy для выполнения символьных вычислений)\n",
        "\n",
        "# Definiujemy wektory A i B (Определяем векторы A и B)\n",
        "A = sp.Matrix([2, 1])  # Wektor A [2, 1] (Вектор A [2, 1])\n",
        "B = sp.Matrix([-1, 1])  # Wektor B [-1, 1] (Вектор B [-1, 1])\n",
        "\n",
        "# Obliczamy iloczyn skalarny wektorów A i B (Вычисляем скалярное произведение векторов A и B)\n",
        "dot_product = A.dot(B)  # Funkcja dot() oblicza iloczyn skalarny (Функция dot() вычисляет скалярное произведение)\n",
        "\n",
        "# Sprawdzamy, czy wynik iloczynu skalarnego jest równy zero (Проверяем, равен ли результат скалярного произведения нулю)\n",
        "if dot_product == 0:\n",
        "    print(\"Wektory są prostopadłe.\")  # Wektory są prostopadłe, jeśli iloczyn skalarny wynosi zero (Векторы перпендикулярны, если скалярное произведение равно нулю)\n",
        "else:\n",
        "    print(\"Wektory nie są prostopadłe.\")  # Wektory nie są prostopadłe, jeśli iloczyn skalarny nie jest równy zero (Векторы не перпендикулярны, если скалярное произведение не равно нулю)\n",
        "\n",
        "# Wyświetlamy wynik iloczynu skalarnego (Выводим результат скалярного произведения)\n",
        "print(f\"Iloczyn skalarny wektorów A i B wynosi: {dot_product}\")  # Wyświetlamy wartość iloczynu skalarnego (Выводим значение скалярного произведения)\n"
      ],
      "metadata": {
        "id": "iQY7E6W6h7wY",
        "outputId": "b38a077d-db8e-44c3-c20b-b9f6143defcd",
        "colab": {
          "base_uri": "https://localhost:8080/"
        }
      },
      "execution_count": 2,
      "outputs": [
        {
          "output_type": "stream",
          "name": "stdout",
          "text": [
            "Wektory nie są prostopadłe.\n",
            "Iloczyn skalarny wektorów A i B wynosi: -1\n"
          ]
        }
      ]
    },
    {
      "cell_type": "markdown",
      "metadata": {
        "id": "u03UYlYtTqEj"
      },
      "source": []
    }
  ],
  "metadata": {
    "kernelspec": {
      "display_name": "Python 3",
      "language": "python",
      "name": "python3"
    },
    "language_info": {
      "codemirror_mode": {
        "name": "ipython",
        "version": 3
      },
      "file_extension": ".py",
      "mimetype": "text/x-python",
      "name": "python",
      "nbconvert_exporter": "python",
      "pygments_lexer": "ipython3",
      "version": "3.11.9"
    },
    "colab": {
      "provenance": [],
      "include_colab_link": true
    }
  },
  "nbformat": 4,
  "nbformat_minor": 0
}