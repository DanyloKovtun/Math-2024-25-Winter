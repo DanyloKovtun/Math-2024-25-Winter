{
  "cells": [
    {
      "cell_type": "markdown",
      "metadata": {
        "id": "A2sSqDZzr2cl"
      },
      "source": [
        "# Wzory Cramera - Przykłady dla układów 2x2, 3x3 i 4x4\n",
        "\n",
        "Wzory Cramera są używane tylko wtedy gdy liczba równań jest równa liczbie niewiadomych. Inaczej mówiąc, macierz współczynników musi być macierzą kwadratową.\n",
        "\n",
        "**Wzory te są używane tylko wtedy**, gdy **wyznacznik** macierzy współczynników jest **różny od zera**. W przeciwnym razie układ równań jest sprzeczny lub nieoznaczony.\n",
        "\n",
        "## Układ równań 2x2\n",
        "\n",
        "Rozważmy układ dwóch równań z dwiema niewiadomymi:\n",
        "\n",
        "$$\n",
        "\\begin{cases}\n",
        "a_{11}x_1 + a_{12}x_2 = b_1 \\\\\n",
        "a_{21}x_1 + a_{22}x_2 = b_2\n",
        "\\end{cases}\n",
        "$$\n",
        "\n",
        "Wzory Cramera dla niewiadomych $ x_1 $ i $ x_2 $ są następujące:\n",
        "\n",
        "$$\n",
        "x_1 = \\frac{\\det(A_1)}{\\det(A)} \\quad \\text{oraz} \\quad x_2 = \\frac{\\det(A_2)}{\\det(A)}\n",
        "$$\n",
        "\n",
        "Gdzie:\n",
        "\n",
        "$$\n",
        "\\det(A) =\n",
        "\\begin{vmatrix}\n",
        "a_{11} & a_{12} \\\\\n",
        "a_{21} & a_{22}\n",
        "\\end{vmatrix}\n",
        "= a_{11}a_{22} - a_{12}a_{21}\n",
        "$$\n",
        "\n",
        "$$\n",
        "\\det(A_1) =\n",
        "\\begin{vmatrix}\n",
        "b_1 & a_{12} \\\\\n",
        "b_2 & a_{22}\n",
        "\\end{vmatrix}\n",
        "= b_1a_{22} - a_{12}b_2\n",
        "$$\n",
        "\n",
        "$$\n",
        "\\det(A_2) =\n",
        "\\begin{vmatrix}\n",
        "a_{11} & b_1 \\\\\n",
        "a_{21} & b_2\n",
        "\\end{vmatrix}\n",
        "= a_{11}b_2 - b_1a_{21}\n",
        "$$\n",
        "\n",
        "## Układ równań 3x3\n",
        "\n",
        "Rozważmy układ trzech równań z trzema niewiadomymi:\n",
        "\n",
        "$$\n",
        "\\begin{cases}\n",
        "a_{11}x_1 + a_{12}x_2 + a_{13}x_3 = b_1 \\\\\n",
        "a_{21}x_1 + a_{22}x_2 + a_{23}x_3 = b_2 \\\\\n",
        "a_{31}x_1 + a_{32}x_2 + a_{33}x_3 = b_3\n",
        "\\end{cases}\n",
        "$$\n",
        "\n",
        "Wzory Cramera dla $ x_1 $, $ x_2 $ i $ x_3 $:\n",
        "\n",
        "$$\n",
        "x_1 = \\frac{\\det(A_1)}{\\det(A)} \\quad x_2 = \\frac{\\det(A_2)}{\\det(A)} \\quad x_3 = \\frac{\\det(A_3)}{\\det(A)}\n",
        "$$\n",
        "\n",
        "Gdzie:\n",
        "\n",
        "$$\n",
        "\\det(A) =\n",
        "\\begin{vmatrix}\n",
        "a_{11} & a_{12} & a_{13} \\\\\n",
        "a_{21} & a_{22} & a_{23} \\\\\n",
        "a_{31} & a_{32} & a_{33}\n",
        "\\end{vmatrix}\n",
        "$$\n",
        "\n",
        "$$\n",
        "\\det(A_1) =\n",
        "\\begin{vmatrix}\n",
        "b_1 & a_{12} & a_{13} \\\\\n",
        "b_2 & a_{22} & a_{23} \\\\\n",
        "b_3 & a_{32} & a_{33}\n",
        "\\end{vmatrix}\n",
        "$$\n",
        "\n",
        "$$\n",
        "\\det(A_2) =\n",
        "\\begin{vmatrix}\n",
        "a_{11} & b_1 & a_{13} \\\\\n",
        "a_{21} & b_2 & a_{23} \\\\\n",
        "a_{31} & b_3 & a_{33}\n",
        "\\end{vmatrix}\n",
        "$$\n",
        "\n",
        "$$\n",
        "\\det(A_3) =\n",
        "\\begin{vmatrix}\n",
        "a_{11} & a_{12} & b_1 \\\\\n",
        "a_{21} & a_{22} & b_2 \\\\\n",
        "a_{31} & a_{32} & b_3\n",
        "\\end{vmatrix}\n",
        "$$\n",
        "\n",
        "## Układ równań 4x4\n",
        "\n",
        "Rozważmy układ czterech równań z czterema niewiadomymi:\n",
        "\n",
        "$$\n",
        "\\begin{cases}\n",
        "a_{11}x_1 + a_{12}x_2 + a_{13}x_3 + a_{14}x_4 = b_1 \\\\\n",
        "a_{21}x_1 + a_{22}x_2 + a_{23}x_3 + a_{24}x_4 = b_2 \\\\\n",
        "a_{31}x_1 + a_{32}x_2 + a_{33}x_3 + a_{34}x_4 = b_3 \\\\\n",
        "a_{41}x_1 + a_{42}x_2 + a_{43}x_3 + a_{44}x_4 = b_4\n",
        "\\end{cases}\n",
        "$$\n",
        "\n",
        "Wzory Cramera dla $ x_1 $, $ x_2 $, $ x_3 $ i $ x_4 $:\n",
        "\n",
        "$$\n",
        "x_1 = \\frac{\\det(A_1)}{\\det(A)} \\quad x_2 = \\frac{\\det(A_2)}{\\det(A)} \\quad x_3 = \\frac{\\det(A_3)}{\\det(A)} \\quad x_4 = \\frac{\\det(A_4)}{\\det(A)}\n",
        "$$\n",
        "\n",
        "Gdzie:\n",
        "\n",
        "$$\n",
        "\\det(A) =\n",
        "\\begin{vmatrix}\n",
        "a_{11} & a_{12} & a_{13} & a_{14} \\\\\n",
        "a_{21} & a_{22} & a_{23} & a_{24} \\\\\n",
        "a_{31} & a_{32} & a_{33} & a_{34} \\\\\n",
        "a_{41} & a_{42} & a_{43} & a_{44}\n",
        "\\end{vmatrix}\n",
        "$$\n",
        "\n",
        "$$\n",
        "\\det(A_1) =\n",
        "\\begin{vmatrix}\n",
        "b_1 & a_{12} & a_{13} & a_{14} \\\\\n",
        "b_2 & a_{22} & a_{23} & a_{24} \\\\\n",
        "b_3 & a_{32} & a_{33} & a_{34} \\\\\n",
        "b_4 & a_{42} & a_{43} & a_{44}\n",
        "\\end{vmatrix}\n",
        "$$\n",
        "\n",
        "$$\n",
        "\\det(A_2) =\n",
        "\\begin{vmatrix}\n",
        "a_{11} & b_1 & a_{13} & a_{14} \\\\\n",
        "a_{21} & b_2 & a_{23} & a_{24} \\\\\n",
        "a_{31} & b_3 & a_{33} & a_{34} \\\\\n",
        "a_{41} & b_4 & a_{43} & a_{44}\n",
        "\\end{vmatrix}\n",
        "$$\n",
        "\n",
        "$$\n",
        "\\det(A_3) =\n",
        "\\begin{vmatrix}\n",
        "a_{11} & a_{12} & b_1 & a_{14} \\\\\n",
        "a_{21} & a_{22} & b_2 & a_{24} \\\\\n",
        "a_{31} & a_{32} & b_3 & a_{34} \\\\\n",
        "a_{41} & a_{42} & b_4 & a_{44}\n",
        "\\end{vmatrix}\n",
        "$$\n",
        "\n",
        "$$\n",
        "\\det(A_4) =\n",
        "\\begin{vmatrix}\n",
        "a_{11} & a_{12} & a_{13} & b_1 \\\\\n",
        "a_{21} & a_{22} & a_{23} & b_2 \\\\\n",
        "a_{31} & a_{32} & a_{33} & b_3 \\\\\n",
        "a_{41} & a_{42} & a_{43} & b_4\n",
        "\\end{vmatrix}\n",
        "$$\n"
      ]
    },
    {
      "cell_type": "markdown",
      "metadata": {
        "id": "9sWUARkqr2cn"
      },
      "source": [
        "## Przykład"
      ]
    },
    {
      "cell_type": "code",
      "execution_count": 7,
      "metadata": {
        "id": "QNCEJDSAr2cn"
      },
      "outputs": [],
      "source": [
        "import sympy as sp\n",
        "\n",
        "# Definiowanie symboli\n",
        "x, y, z = sp.symbols('x y z')\n",
        "\n",
        "# Definicja układu równań\n",
        "eq1 = sp.Eq(2*x + 3*y + z, 1)\n",
        "eq2 = sp.Eq(3*x + 2*y + 2*z, 2)\n",
        "eq3 = sp.Eq(x + y + z, 3)\n",
        "\n",
        "# Macierz odpowiedniego układu równań\n",
        "A = sp.Matrix([[2, 3, 1], [3, 2, 2], [1, 1, 1]])\n",
        "# wektor wyrazów wolnych\n",
        "b = sp.Matrix([1, 2, 3])"
      ]
    },
    {
      "cell_type": "code",
      "execution_count": 8,
      "metadata": {
        "colab": {
          "base_uri": "https://localhost:8080/",
          "height": 78
        },
        "id": "944pni6nr2co",
        "outputId": "41bc1009-f197-488d-9658-0320ae5f781f"
      },
      "outputs": [
        {
          "output_type": "execute_result",
          "data": {
            "text/plain": [
              "Matrix([\n",
              "[2, 3, 1],\n",
              "[3, 2, 2],\n",
              "[1, 1, 1]])"
            ],
            "text/latex": "$\\displaystyle \\left[\\begin{matrix}2 & 3 & 1\\\\3 & 2 & 2\\\\1 & 1 & 1\\end{matrix}\\right]$"
          },
          "metadata": {},
          "execution_count": 8
        }
      ],
      "source": [
        "A"
      ]
    },
    {
      "cell_type": "code",
      "execution_count": 9,
      "metadata": {
        "colab": {
          "base_uri": "https://localhost:8080/",
          "height": 78
        },
        "id": "35cQ6o1Cr2cq",
        "outputId": "2c60af1a-b401-4139-f61d-bc0c0d2dd3a7"
      },
      "outputs": [
        {
          "output_type": "execute_result",
          "data": {
            "text/plain": [
              "Matrix([\n",
              "[1],\n",
              "[2],\n",
              "[3]])"
            ],
            "text/latex": "$\\displaystyle \\left[\\begin{matrix}1\\\\2\\\\3\\end{matrix}\\right]$"
          },
          "metadata": {},
          "execution_count": 9
        }
      ],
      "source": [
        "b"
      ]
    },
    {
      "cell_type": "code",
      "execution_count": 10,
      "metadata": {
        "colab": {
          "base_uri": "https://localhost:8080/",
          "height": 78
        },
        "id": "RxnHAW4or2cq",
        "outputId": "27fc6439-ab44-455c-8ad5-eb05321a0316"
      },
      "outputs": [
        {
          "output_type": "execute_result",
          "data": {
            "text/plain": [
              "Matrix([\n",
              "[1, 3, 1],\n",
              "[2, 2, 2],\n",
              "[3, 1, 1]])"
            ],
            "text/latex": "$\\displaystyle \\left[\\begin{matrix}1 & 3 & 1\\\\2 & 2 & 2\\\\3 & 1 & 1\\end{matrix}\\right]$"
          },
          "metadata": {},
          "execution_count": 10
        }
      ],
      "source": [
        "# Zdefiniujmy macierz A_1\n",
        "A_1 = A.copy() # Skopiuj macierz A\n",
        "A_1[:, 0] = b # Zamień pierwszą kolumnę macierzy A na wektor b\n",
        "A_1 # sprawdzamy czy zamiana się udała"
      ]
    },
    {
      "cell_type": "code",
      "execution_count": 11,
      "metadata": {
        "colab": {
          "base_uri": "https://localhost:8080/",
          "height": 37
        },
        "id": "CQrzPIJJr2cq",
        "outputId": "eaf94b4d-d2e0-443b-ba39-999fb7e363a1"
      },
      "outputs": [
        {
          "output_type": "execute_result",
          "data": {
            "text/plain": [
              "-4"
            ],
            "text/latex": "$\\displaystyle -4$"
          },
          "metadata": {},
          "execution_count": 11
        }
      ],
      "source": [
        "\n",
        "det_A_1 = A_1.det() # Oblicz wyznacznik macierzy A_1\n",
        "sol_x = det_A_1 / A.det() # Oblicz x_1\n",
        "sol_x # obliczona wartość x_1"
      ]
    },
    {
      "cell_type": "code",
      "execution_count": 12,
      "metadata": {
        "colab": {
          "base_uri": "https://localhost:8080/",
          "height": 78
        },
        "id": "xSkM36Rzr2cq",
        "outputId": "355c6ae3-b3be-4577-e7bf-7743e6086be7"
      },
      "outputs": [
        {
          "output_type": "execute_result",
          "data": {
            "text/plain": [
              "Matrix([\n",
              "[2, 1, 1],\n",
              "[3, 2, 2],\n",
              "[1, 3, 1]])"
            ],
            "text/latex": "$\\displaystyle \\left[\\begin{matrix}2 & 1 & 1\\\\3 & 2 & 2\\\\1 & 3 & 1\\end{matrix}\\right]$"
          },
          "metadata": {},
          "execution_count": 12
        }
      ],
      "source": [
        "# analogicznie dla y\n",
        "A_2 = A.copy()\n",
        "A_2[:, 1] = b\n",
        "A_2 # sprawdzamy czy zamiana się udała"
      ]
    },
    {
      "cell_type": "code",
      "execution_count": 13,
      "metadata": {
        "colab": {
          "base_uri": "https://localhost:8080/",
          "height": 37
        },
        "id": "nLCEa8gkr2cq",
        "outputId": "440edf6b-a0ae-4bb8-88e5-619493a99dce"
      },
      "outputs": [
        {
          "output_type": "execute_result",
          "data": {
            "text/plain": [
              "1"
            ],
            "text/latex": "$\\displaystyle 1$"
          },
          "metadata": {},
          "execution_count": 13
        }
      ],
      "source": [
        "det_A_2 = A_2.det()\n",
        "sol_y = det_A_2 / A.det()\n",
        "sol_y"
      ]
    },
    {
      "cell_type": "code",
      "execution_count": 15,
      "metadata": {
        "colab": {
          "base_uri": "https://localhost:8080/",
          "height": 37
        },
        "id": "dzBVELzlr2cr",
        "outputId": "a1b37527-026e-4860-8ce8-553008345547"
      },
      "outputs": [
        {
          "output_type": "execute_result",
          "data": {
            "text/plain": [
              "6"
            ],
            "text/latex": "$\\displaystyle 6$"
          },
          "metadata": {},
          "execution_count": 15
        }
      ],
      "source": [
        "# ostatecznie dla z\n",
        "A_3 = A.copy()\n",
        "A_3[:, 2] = b\n",
        "det_A_3 = A_3.det()\n",
        "sol_z = det_A_3 / A.det()\n",
        "sol_z"
      ]
    },
    {
      "cell_type": "code",
      "execution_count": null,
      "metadata": {
        "id": "rtbkIp4dr2cr",
        "outputId": "be1d84a0-8778-45fe-b1cc-c8d886381e17"
      },
      "outputs": [
        {
          "data": {
            "text/plain": [
              "{x: -4, y: 1, z: 6}"
            ]
          },
          "execution_count": 9,
          "metadata": {},
          "output_type": "execute_result"
        }
      ],
      "source": [
        "# Rozwiązanie układu równań\n",
        "sp.solve((eq1, eq2, eq3), (x, y, z))"
      ]
    },
    {
      "cell_type": "markdown",
      "metadata": {
        "id": "5Q-jDzjwr2cr"
      },
      "source": [
        "---\n",
        "\n",
        "## Zadania dla studentów\n",
        "\n",
        "1. Rozwiąż układ równań:\n",
        "   $$\n",
        "   \\begin{cases}\n",
        "   2x_1 - 3x_2 = 7 \\\\\n",
        "   3x_1 + 5x_2 = 2\n",
        "   \\end{cases}\n",
        "   $$\n",
        "\n",
        "2. Rozwiąż układ równań:\n",
        "   $$\n",
        "   \\begin{cases}\n",
        "   2x + y - z = 1 \\\\\n",
        "   x - y + 2z = 4 \\\\\n",
        "   3x - 2z = -1\n",
        "   \\end{cases}\n",
        "   $$\n",
        "\n",
        "3. Rozwiąż układ równań:\n",
        "   $$\n",
        "   \\begin{cases}\n",
        "   x + y + z - t = 2 \\\\\n",
        "   x - z + 2t = 6 \\\\\n",
        "   2x - 3y + t = 4 \\\\\n",
        "   3x + y + 3z - 4t = -2\n",
        "   \\end{cases}\n",
        "   $$\n",
        "\n",
        "4. Dlaczego nie można rozwiązać układ równań poniżej za pomocą wzorów Cramera?\n",
        "$$\n",
        "\\begin{cases}\n",
        "x_1 + 2x_2 + 3x_3 = 3 \\\\\n",
        "4x_1 + 5x_2 + 6x_3 = 2 \\\\\n",
        "7x_1 + 8x_2 + 9x_3 = 1\n",
        "\\end{cases}\n",
        "$$\n",
        "\n"
      ]
    },
    {
      "cell_type": "code",
      "source": [
        "# Импортируем необходимые модули из библиотеки SymPy\n",
        "# Importujemy niezbędne moduły z biblioteki SymPy\n",
        "import sympy as sp\n",
        "\n",
        "# Определяем символы переменных x1 и x2\n",
        "# Definiujemy symbole zmiennych x1 i x2\n",
        "x1, x2 = symbols('x1 x2')\n",
        "\n",
        "# Записываем систему уравнений\n",
        "# Zapisujemy układ równań\n",
        "equation1 = Eq(2*x1 - 3*x2, 7)  # 2x1 - 3x2 = 7\n",
        "equation2 = Eq(3*x1 + 5*x2, 2)  # 3x1 + 5x2 = 2\n",
        "\n",
        "# Коэффициенты системы уравнений\n",
        "# Współczynniki układu równań\n",
        "A = Matrix([[2, -3],  # Матрица коэффициентов A (macierz współczynników)\n",
        "            [3, 5]])\n",
        "\n",
        "# Вектор свободных членов\n",
        "# Wektor wyrazów wolnych\n",
        "B = Matrix([7,  # Свободные члены (wyrazy wolne)\n",
        "            2])\n",
        "\n",
        "# Вычисляем определитель матрицы A\n",
        "# Obliczamy wyznacznik macierzy A\n",
        "det_A = A.det() #[2, -3] det A = 2*5 - (-3)*5 = 19\n",
        "det_A           #[3, 5]"
      ],
      "metadata": {
        "colab": {
          "base_uri": "https://localhost:8080/",
          "height": 37
        },
        "id": "nFGCSf_QuO04",
        "outputId": "8e734fca-ee2c-4054-f9ee-b9f2e155b637"
      },
      "execution_count": 8,
      "outputs": [
        {
          "output_type": "execute_result",
          "data": {
            "text/plain": [
              "19"
            ],
            "text/latex": "$\\displaystyle 19$"
          },
          "metadata": {},
          "execution_count": 8
        }
      ]
    },
    {
      "cell_type": "code",
      "source": [
        "# Вычисляем определитель для x1 (подменяем первый столбец матрицы A на вектор B)\n",
        "# Obliczamy wyznacznik dla x1 (zamieniamy pierwszą kolumnę macierzy A na wektor B)\n",
        "A_x1 = A.copy()\n",
        "A_x1[:, 0] = B  # Замена первого столбца на вектор B (Zamiana pierwszej kolumny na wektor B)\n",
        "\n",
        "det_A_x1 = A_x1.det() #[7, -3]  det A_1 = 7*5 - (-3)*2 = 41\n",
        "det_A_x1              #[2, 5]\n"
      ],
      "metadata": {
        "colab": {
          "base_uri": "https://localhost:8080/",
          "height": 37
        },
        "id": "5tunsG8r8Qo4",
        "outputId": "a42f0b06-edb7-47e4-d880-7bf1c0d7f90f"
      },
      "execution_count": 9,
      "outputs": [
        {
          "output_type": "execute_result",
          "data": {
            "text/plain": [
              "41"
            ],
            "text/latex": "$\\displaystyle 41$"
          },
          "metadata": {},
          "execution_count": 9
        }
      ]
    },
    {
      "cell_type": "code",
      "source": [
        "# Вычисляем определитель для x2 (подменяем второй столбец матрицы A на вектор B)\n",
        "# Obliczamy wyznacznik dla x2 (zamieniamy drugą kolumnę macierzy A na wektor B)\n",
        "A_x2 = A.copy()\n",
        "A_x2[:, 1] = B  # Замена второго столбца на вектор B (Zamiana drugiej kolumny na wektor B)\n",
        "\n",
        "det_A_x2 = A_x2.det() #[2, 7] det A_2 = 2*2 - 7*3 = -17\n",
        "det_A_x2              #[3, 2]"
      ],
      "metadata": {
        "colab": {
          "base_uri": "https://localhost:8080/",
          "height": 37
        },
        "id": "Ivtzqh2R8T1U",
        "outputId": "801eda44-4a49-4b50-8b46-64fe28552783"
      },
      "execution_count": 10,
      "outputs": [
        {
          "output_type": "execute_result",
          "data": {
            "text/plain": [
              "-17"
            ],
            "text/latex": "$\\displaystyle -17$"
          },
          "metadata": {},
          "execution_count": 10
        }
      ]
    },
    {
      "cell_type": "code",
      "source": [
        "# Решение для x1 и x2\n",
        "# Rozwiązanie dla x1 i x2\n",
        "x1_solution = det_A_x1 / det_A  # Решение для x1 (Rozwiązanie dla x1)\n",
        "x2_solution = det_A_x2 / det_A  # Решение для x2 (Rozwiązanie dla x2)\n",
        "sp.solve((equation1, equation2), (x1, x2))"
      ],
      "metadata": {
        "colab": {
          "base_uri": "https://localhost:8080/"
        },
        "id": "n6InZ3P_8ZA5",
        "outputId": "e76d290a-367e-4861-ff04-7789a250a94d"
      },
      "execution_count": 11,
      "outputs": [
        {
          "output_type": "execute_result",
          "data": {
            "text/plain": [
              "{x1: 41/19, x2: -17/19}"
            ]
          },
          "metadata": {},
          "execution_count": 11
        }
      ]
    },
    {
      "cell_type": "markdown",
      "source": [
        "№2\n",
        "\n",
        "   2x + y - z = 1 \\\\\n",
        "   x - y + 2z = 4 \\\\\n",
        "   3x - 2z = -1"
      ],
      "metadata": {
        "id": "nk04El6X9FcA"
      }
    },
    {
      "cell_type": "code",
      "source": [
        "# Импортируем необходимые модули из библиотеки SymPy\n",
        "# Importujemy niezbędne moduły z biblioteki SymPy\n",
        "from sympy import symbols, Eq, solve, Matrix\n",
        "\n",
        "# Определяем символы переменных x1 и x2\n",
        "# Definiujemy symbole zmiennych x1 i x2\n",
        "x, y, z = symbols('x y z')\n",
        "\n",
        "# Записываем систему уравнений\n",
        "# Zapisujemy układ równań\n",
        "equation1 = Eq(2*x + y - z, 1)\n",
        "equation2 = Eq(x - y + 2*z, 4)\n",
        "equation3 = Eq(3*x - 2*z, -1)\n",
        "\n",
        "# Коэффициенты системы уравнений\n",
        "# Współczynniki układu równań\n",
        "A = Matrix([[2, 1, -1],  # Матрица коэффициентов A (macierz współczynników)\n",
        "            [1, -1, 2],\n",
        "            [3, 0, -2]])\n",
        "\n",
        "# Вектор свободных членов\n",
        "# Wektor wyrazów wolnych\n",
        "B = Matrix([1,  # Свободные члены (wyrazy wolne)\n",
        "            4,\n",
        "            -1])\n",
        "\n",
        "# Вычисляем определитель матрицы A\n",
        "# Obliczamy wyznacznik macierzy A\n",
        "det_A = A.det() #det A = 2*(-1)*(-2) + 1*2*3 + (-1)*1*0 - (-1)*(-1)*3 - 2*2*0 - 1*1*(-2) = 9\n",
        "det_A"
      ],
      "metadata": {
        "colab": {
          "base_uri": "https://localhost:8080/",
          "height": 37
        },
        "id": "kxKfRtEk7zJG",
        "outputId": "0491c50a-6317-4f7d-cfb5-87a04f19abe2"
      },
      "execution_count": 12,
      "outputs": [
        {
          "output_type": "execute_result",
          "data": {
            "text/plain": [
              "9"
            ],
            "text/latex": "$\\displaystyle 9$"
          },
          "metadata": {},
          "execution_count": 12
        }
      ]
    },
    {
      "cell_type": "code",
      "source": [
        "# Вычисляем определитель для x1 (подменяем первый столбец матрицы A на вектор B)\n",
        "# Obliczamy wyznacznik dla x1 (zamieniamy pierwszą kolumnę macierzy A na wektor B)\n",
        "A_x = A.copy()\n",
        "A_x[:, 0] = B  # Замена первого столбца на вектор B (Zamiana pierwszej kolumny na wektor B)\n",
        "\n",
        "det_A_x = A_x.det() #[1, 1, -1]\n",
        "det_A_x             #[4, -1, 2] det A_x = 1*(-1)*(-2) + 1*2*(-1) + (-1)*4*0 - (-1)*(-1)*(-1) - 1*2*0 - 1*4*(-2) = 9\n",
        "                    #[1, 0, -2]"
      ],
      "metadata": {
        "colab": {
          "base_uri": "https://localhost:8080/",
          "height": 37
        },
        "id": "Ozu0bRt6-YUM",
        "outputId": "3fe13ca3-7887-4ad7-e1e1-5b81481347f4"
      },
      "execution_count": 13,
      "outputs": [
        {
          "output_type": "execute_result",
          "data": {
            "text/plain": [
              "9"
            ],
            "text/latex": "$\\displaystyle 9$"
          },
          "metadata": {},
          "execution_count": 13
        }
      ]
    },
    {
      "cell_type": "code",
      "source": [
        "# Вычисляем определитель для y (подменяем второй столбец матрицы A на вектор B)\n",
        "# Obliczamy wyznacznik dla y (zamieniamy drugą kolumnę macierzy A na wektor B)\n",
        "A_y = A.copy()\n",
        "A_y[:, 1] = B  # Замена второго столбца на вектор B (Zamiana drugiej kolumny na wektor B)\n",
        "\n",
        "det_A_y = A_y.det() #[2, 1, -1]\n",
        "det_A_y             #[1, 4, 2] det A_у = 2*4*(-2) + 1*2*3 + (-1)*1*(-1) - (-1)*4*3 - 2*2*(-1) - 1*1*(-2) = 9\n",
        "                    #[3, -1, -2]"
      ],
      "metadata": {
        "colab": {
          "base_uri": "https://localhost:8080/",
          "height": 37
        },
        "id": "d0fxJS5v-pvR",
        "outputId": "e662f455-5c19-4274-e40a-c8b7aec91dff"
      },
      "execution_count": 14,
      "outputs": [
        {
          "output_type": "execute_result",
          "data": {
            "text/plain": [
              "9"
            ],
            "text/latex": "$\\displaystyle 9$"
          },
          "metadata": {},
          "execution_count": 14
        }
      ]
    },
    {
      "cell_type": "code",
      "source": [
        "# Вычисляем определитель для z (подменяем второй столбец матрицы A на вектор B)\n",
        "# Obliczamy wyznacznik dla z (zamieniamy trzeci kolumnę macierzy A na wektor B)\n",
        "A_z = A.copy()\n",
        "A_z[:, 2] = B # Замена третьего столбца на вектор B (Zamiana trzecie kolumny na wektor B)\n",
        "\n",
        "det_A_z = A_z.det() #[2, 1, 1]\n",
        "det_A_z             #[1, -1, 4] det A_z = 2*(-1)*(-1) + 1*4*3 + 1*1*0 - 1*(-1)*3 - 2*4*0 - 1*1*(-2) = 18\n",
        "                    #[3, 0, -1]"
      ],
      "metadata": {
        "colab": {
          "base_uri": "https://localhost:8080/",
          "height": 37
        },
        "id": "aHjPV6Ic-wJh",
        "outputId": "081998a3-c389-421d-88d0-3d39144770f6"
      },
      "execution_count": 15,
      "outputs": [
        {
          "output_type": "execute_result",
          "data": {
            "text/plain": [
              "18"
            ],
            "text/latex": "$\\displaystyle 18$"
          },
          "metadata": {},
          "execution_count": 15
        }
      ]
    },
    {
      "cell_type": "code",
      "source": [
        "# Решение для x, y, z\n",
        "# Rozwiązanie dla x, y, z\n",
        "x_solution = det_A_x / det_A  # Решение для x (Rozwiązanie dla x)\n",
        "y_solution = det_A_y / det_A  # Решение для y (Rozwiązanie dla y)\n",
        "z_solution = det_A_z / det_A  # Решение для z (Rozwiązanie dla z)\n",
        "\n",
        "sp.solve((equation1, equation2, equation3), (x, y, z))"
      ],
      "metadata": {
        "colab": {
          "base_uri": "https://localhost:8080/"
        },
        "id": "ruNb2h4f_BQx",
        "outputId": "c4eb8860-fdf5-4f34-8e1e-1667398872c1"
      },
      "execution_count": 16,
      "outputs": [
        {
          "output_type": "execute_result",
          "data": {
            "text/plain": [
              "{x: 1, y: 1, z: 2}"
            ]
          },
          "metadata": {},
          "execution_count": 16
        }
      ]
    },
    {
      "cell_type": "markdown",
      "source": [
        "№3\n",
        "\n",
        " x + y + z - t = 2 \\\\\n",
        "   x - z + 2t = 6 \\\\\n",
        "   2x - 3y + t = 4 \\\\\n",
        "   3x + y + 3z - 4t = -2"
      ],
      "metadata": {
        "id": "k_13jAU2mcVz"
      }
    },
    {
      "cell_type": "code",
      "source": [
        "# Импортируем необходимые модули из библиотеки SymPy\n",
        "# Importujemy niezbędne moduły z biblioteki SymPy\n",
        "import sympy as sp\n",
        "\n",
        "# Определяем символы переменных x1 и x2\n",
        "# Definiujemy symbole zmiennych x1 i x2\n",
        "x, y, z, t = symbols('x y z t')\n",
        "\n",
        "# Записываем систему уравнений\n",
        "# Zapisujemy układ równań\n",
        "equation1 = Eq(x + y + z - t, 2)\n",
        "equation2 = Eq(x - z + 2*t, 6)\n",
        "equation3 = Eq(2*x - 3*y + t, 4)\n",
        "equation4 = Eq(3*x + y + 3*z - 4*t, -2)\n",
        "\n",
        "# Коэффициенты системы уравнений\n",
        "# Współczynniki układu równań\n",
        "A = Matrix([[1, 1, 1, -1],  # Матрица коэффициентов A (macierz współczynników)\n",
        "            [1, 0, -1, 2],\n",
        "            [2, -3, 0, 1],\n",
        "            [3, 1, 3, -4]])\n",
        "\n",
        "# Вектор свободных членов\n",
        "# Wektor wyrazów wolnych\n",
        "B = Matrix([2,  # Свободные члены (wyrazy wolne)\n",
        "            6,\n",
        "            4,\n",
        "            -2])\n",
        "\n",
        "# Вычисляем определитель матрицы A\n",
        "# Obliczamy wyznacznik macierzy A\n",
        "det_A = A.det()\n",
        "det_A"
      ],
      "metadata": {
        "colab": {
          "base_uri": "https://localhost:8080/",
          "height": 37
        },
        "id": "cgblnZyti_Rw",
        "outputId": "0e1ac6f5-ba8a-4d31-e1ee-542ef502a42a"
      },
      "execution_count": 17,
      "outputs": [
        {
          "output_type": "execute_result",
          "data": {
            "text/plain": [
              "8"
            ],
            "text/latex": "$\\displaystyle 8$"
          },
          "metadata": {},
          "execution_count": 17
        }
      ]
    },
    {
      "cell_type": "code",
      "source": [
        "# Вычисляем определитель для x (подменяем первый столбец матрицы A на вектор B)\n",
        "# Obliczamy wyznacznik dla x (zamieniamy pierwszą kolumnę macierzy A na wektor B)\n",
        "A_x = A.copy()\n",
        "A_x[:, 0] = B  # Замена первого столбца на вектор B (Zamiana pierwszej kolumny na wektor B)\n",
        "\n",
        "det_A_x = A_x.det()\n",
        "det_A_x"
      ],
      "metadata": {
        "colab": {
          "base_uri": "https://localhost:8080/",
          "height": 37
        },
        "id": "DX5QQu9Pjgyz",
        "outputId": "0d595609-9a3c-438b-cc59-c361ac0dabf7"
      },
      "execution_count": 18,
      "outputs": [
        {
          "output_type": "execute_result",
          "data": {
            "text/plain": [
              "4"
            ],
            "text/latex": "$\\displaystyle 4$"
          },
          "metadata": {},
          "execution_count": 18
        }
      ]
    },
    {
      "cell_type": "code",
      "source": [
        "# Вычисляем определитель для y (подменяем второй столбец матрицы A на вектор B)\n",
        "# Obliczamy wyznacznik dla y (zamieniamy drugą kolumnę macierzy A na wektor B)\n",
        "A_y = A.copy()\n",
        "A_y[:, 1] = B  # Замена второго столбца на вектор B (Zamiana drugiej kolumny na wektor B)\n",
        "\n",
        "det_A_y = A_y.det()\n",
        "det_A_y"
      ],
      "metadata": {
        "colab": {
          "base_uri": "https://localhost:8080/",
          "height": 37
        },
        "id": "zh9lPpVrjms5",
        "outputId": "2efe2720-1402-466a-d30e-828958fa27b5"
      },
      "execution_count": 19,
      "outputs": [
        {
          "output_type": "execute_result",
          "data": {
            "text/plain": [
              "8"
            ],
            "text/latex": "$\\displaystyle 8$"
          },
          "metadata": {},
          "execution_count": 19
        }
      ]
    },
    {
      "cell_type": "code",
      "source": [
        "# Вычисляем определитель для z (подменяем третий столбец матрицы A на вектор B)\n",
        "# Obliczamy wyznacznik dla z (zamieniamy trzeci kolumnę macierzy A na wektor B)\n",
        "A_z = A.copy()\n",
        "A_z[:, 2] = B # Замена третьего столбца на вектор B (Zamiana trzecie kolumny na wektor B)\n",
        "\n",
        "det_A_z = A_z.det()\n",
        "det_A_z"
      ],
      "metadata": {
        "colab": {
          "base_uri": "https://localhost:8080/",
          "height": 37
        },
        "id": "pMRep6BXjsiO",
        "outputId": "79682d11-a887-4bde-d7fe-d9d383199ee9"
      },
      "execution_count": 20,
      "outputs": [
        {
          "output_type": "execute_result",
          "data": {
            "text/plain": [
              "52"
            ],
            "text/latex": "$\\displaystyle 52$"
          },
          "metadata": {},
          "execution_count": 20
        }
      ]
    },
    {
      "cell_type": "code",
      "source": [
        "# Вычисляем определитель для z (подменяем четвертый столбец матрицы A на вектор B)\n",
        "# Obliczamy wyznacznik dla z (zamieniamy czwarty kolumnę macierzy A na wektor B)\n",
        "A_t = A.copy()\n",
        "A_t[:, 3] = B\n",
        "\n",
        "det_A_t = A_t.det()\n",
        "det_A_t"
      ],
      "metadata": {
        "colab": {
          "base_uri": "https://localhost:8080/",
          "height": 37
        },
        "id": "6QFeqkuijw_B",
        "outputId": "f28fa050-0aff-4a0e-e36d-9810207f0666"
      },
      "execution_count": 21,
      "outputs": [
        {
          "output_type": "execute_result",
          "data": {
            "text/plain": [
              "48"
            ],
            "text/latex": "$\\displaystyle 48$"
          },
          "metadata": {},
          "execution_count": 21
        }
      ]
    },
    {
      "cell_type": "code",
      "source": [
        "# Решение для x, y, z, t\n",
        "# Rozwiązanie dla x, y, z, t\n",
        "x_solution = det_A_x / det_A  # Решение для x (Rozwiązanie dla x)\n",
        "y_solution = det_A_y / det_A  # Решение для y (Rozwiązanie dla y)\n",
        "z_solution = det_A_z / det_A  # Решение для z (Rozwiązanie dla z)\n",
        "t_solution = det_A_t / det_A\n",
        "\n",
        "sp.solve((equation1, equation2, equation3, equation4), (x, y, z, t))"
      ],
      "metadata": {
        "colab": {
          "base_uri": "https://localhost:8080/"
        },
        "id": "-zZT4IbDjyQP",
        "outputId": "c6b7215a-aeff-4b04-e338-6e91f3705216"
      },
      "execution_count": 23,
      "outputs": [
        {
          "output_type": "execute_result",
          "data": {
            "text/plain": [
              "{t: 6, x: 1/2, y: 1, z: 13/2}"
            ]
          },
          "metadata": {},
          "execution_count": 23
        }
      ]
    },
    {
      "cell_type": "markdown",
      "source": [
        "№4\n",
        "kedy det == 0 my nie mozemy uzywacz wzorów Cramera bo mianownik nie może być równy 0\n"
      ],
      "metadata": {
        "id": "lpAQ4V0Qn7sE"
      }
    },
    {
      "cell_type": "code",
      "source": [
        "import sympy as sp\n",
        "\n",
        "A = sp.Matrix([[1, 2, 3], [4, 5, 6], [7, 8, 9]])\n",
        "det_A = A.det() # 1*5*9 + 4*8*3 + 7*2*6 - 3*5*7 - 6*8*1 - 9*4*2 = 0\n",
        "det_A"
      ],
      "metadata": {
        "colab": {
          "base_uri": "https://localhost:8080/",
          "height": 37
        },
        "id": "PlsULj_Soxcf",
        "outputId": "6a826f0e-cb45-46f0-86bf-6933637f82e3"
      },
      "execution_count": 52,
      "outputs": [
        {
          "output_type": "execute_result",
          "data": {
            "text/plain": [
              "0"
            ],
            "text/latex": "$\\displaystyle 0$"
          },
          "metadata": {},
          "execution_count": 52
        }
      ]
    },
    {
      "cell_type": "markdown",
      "metadata": {
        "id": "016z8kVDr2cr"
      },
      "source": []
    }
  ],
  "metadata": {
    "kernelspec": {
      "display_name": ".venv",
      "language": "python",
      "name": "python3"
    },
    "language_info": {
      "codemirror_mode": {
        "name": "ipython",
        "version": 3
      },
      "file_extension": ".py",
      "mimetype": "text/x-python",
      "name": "python",
      "nbconvert_exporter": "python",
      "pygments_lexer": "ipython3",
      "version": "3.11.9"
    },
    "colab": {
      "provenance": []
    }
  },
  "nbformat": 4,
  "nbformat_minor": 0
}