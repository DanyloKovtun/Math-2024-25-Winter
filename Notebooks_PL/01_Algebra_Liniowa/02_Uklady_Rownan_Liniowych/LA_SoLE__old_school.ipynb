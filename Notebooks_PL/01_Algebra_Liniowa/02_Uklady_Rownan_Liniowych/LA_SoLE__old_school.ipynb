{
  "cells": [
    {
      "cell_type": "markdown",
      "metadata": {
        "id": "ita6NoejW4KZ"
      },
      "source": [
        "## Metoda szkolna rozwiązania układu równań liniowych"
      ]
    },
    {
      "cell_type": "code",
      "execution_count": 1,
      "metadata": {
        "id": "qnKblC04W4Kc"
      },
      "outputs": [],
      "source": [
        "import sympy as sp\n",
        "from sympy import symbols, Eq, expand, solve\n",
        "\n",
        "class EnhancedEq(Eq):\n",
        "    def __add__(self, other):\n",
        "        return EnhancedEq(self.lhs + other.lhs, self.rhs + other.rhs)\n",
        "\n",
        "    def __sub__(self, other):\n",
        "        return EnhancedEq(self.lhs - other.lhs, self.rhs - other.rhs)\n",
        "\n",
        "    def __mul__(self, scalar):\n",
        "        return EnhancedEq(scalar * self.lhs, scalar * self.rhs)\n",
        "\n",
        "    def __rmul__(self, scalar):\n",
        "        return self.__mul__(scalar)\n",
        "\n",
        "    def simplify(self):\n",
        "        return EnhancedEq(expand(self.lhs), expand(self.rhs))\n",
        "\n",
        "    def substitute(self, *args, **kwargs):\n",
        "        return EnhancedEq(self.lhs.subs(*args, **kwargs), self.rhs.subs(*args, **kwargs))\n",
        "\n",
        "    def solve_for(self, symbol):\n",
        "        return solve(self, symbol)\n",
        "\n",
        "# Przykład użycia:\n",
        "x, y = symbols('x y')\n",
        "\n",
        "# Definicja równań\n",
        "eq1 = EnhancedEq(2*x + y, 5)\n",
        "eq2 = EnhancedEq(x - y, 1)"
      ]
    },
    {
      "cell_type": "code",
      "execution_count": null,
      "metadata": {
        "id": "6lnYQ8LcW4Kd",
        "outputId": "2b62494c-b76f-486e-d388-4bd74d57ae04",
        "colab": {
          "base_uri": "https://localhost:8080/",
          "height": 56
        }
      },
      "outputs": [
        {
          "output_type": "stream",
          "name": "stdout",
          "text": [
            "Piersze równanie:\n"
          ]
        },
        {
          "output_type": "execute_result",
          "data": {
            "text/plain": [
              "Eq(2*x + y, 5)"
            ],
            "text/latex": "$\\displaystyle 2 x + y = 5$"
          },
          "metadata": {},
          "execution_count": 2
        }
      ],
      "source": [
        "print(\"Piersze równanie:\")\n",
        "eq1"
      ]
    },
    {
      "cell_type": "code",
      "execution_count": null,
      "metadata": {
        "id": "ovH8IfKRW4Ke",
        "outputId": "eaa4f4e7-30f4-49a2-db82-d345cd10d33a",
        "colab": {
          "base_uri": "https://localhost:8080/",
          "height": 56
        }
      },
      "outputs": [
        {
          "output_type": "stream",
          "name": "stdout",
          "text": [
            "Drugie równanie:\n"
          ]
        },
        {
          "output_type": "execute_result",
          "data": {
            "text/plain": [
              "Eq(x - y, 1)"
            ],
            "text/latex": "$\\displaystyle x - y = 1$"
          },
          "metadata": {},
          "execution_count": 3
        }
      ],
      "source": [
        "print(\"Drugie równanie:\")\n",
        "eq2"
      ]
    },
    {
      "cell_type": "code",
      "execution_count": null,
      "metadata": {
        "id": "fEHSOe57W4Ke",
        "outputId": "987ae16a-923c-4fd6-d41c-ede340789c03",
        "colab": {
          "base_uri": "https://localhost:8080/",
          "height": 39
        }
      },
      "outputs": [
        {
          "output_type": "execute_result",
          "data": {
            "text/plain": [
              "Eq(3*x, 6)"
            ],
            "text/latex": "$\\displaystyle 3 x = 6$"
          },
          "metadata": {},
          "execution_count": 4
        }
      ],
      "source": [
        "# Dodajemy do siebie równania\n",
        "eq3 = eq1 + eq2\n",
        "eq3"
      ]
    },
    {
      "cell_type": "code",
      "execution_count": null,
      "metadata": {
        "id": "HeyCZ1PVW4Ke",
        "outputId": "89a33fad-5de8-47c4-d368-1746444cb3e0",
        "colab": {
          "base_uri": "https://localhost:8080/",
          "height": 37
        }
      },
      "outputs": [
        {
          "output_type": "execute_result",
          "data": {
            "text/plain": [
              "2"
            ],
            "text/latex": "$\\displaystyle 2$"
          },
          "metadata": {},
          "execution_count": 5
        }
      ],
      "source": [
        "# Mamy równanie z jedną niewiadomą więc możemy je rozwiązać\n",
        "sol_x = eq3.solve_for(x)[0]\n",
        "sol_x"
      ]
    },
    {
      "cell_type": "code",
      "execution_count": null,
      "metadata": {
        "id": "x-cjUOsBW4Kf",
        "outputId": "321b5b76-49f7-4e52-dcf7-53d8977857bd",
        "colab": {
          "base_uri": "https://localhost:8080/",
          "height": 39
        }
      },
      "outputs": [
        {
          "output_type": "execute_result",
          "data": {
            "text/plain": [
              "Eq(2 - y, 1)"
            ],
            "text/latex": "$\\displaystyle 2 - y = 1$"
          },
          "metadata": {},
          "execution_count": 6
        }
      ],
      "source": [
        "# Podstawiamy rozwiązanie do równania 2\n",
        "eq2=eq2.substitute(x,sol_x)\n",
        "eq2"
      ]
    },
    {
      "cell_type": "code",
      "execution_count": null,
      "metadata": {
        "id": "jNeu7AwOW4Kf",
        "outputId": "4171c96e-9993-4c66-f492-4cca4df3237e",
        "colab": {
          "base_uri": "https://localhost:8080/",
          "height": 37
        }
      },
      "outputs": [
        {
          "output_type": "execute_result",
          "data": {
            "text/plain": [
              "1"
            ],
            "text/latex": "$\\displaystyle 1$"
          },
          "metadata": {},
          "execution_count": 7
        }
      ],
      "source": [
        "# Dostajemy równanie z jedną niewiadomą więc możemy je rozwiązać\n",
        "eq2.solve_for(y)[0]"
      ]
    },
    {
      "cell_type": "code",
      "execution_count": null,
      "metadata": {
        "id": "5UOfXf4sW4Kf",
        "outputId": "20d813f3-91e2-45a8-e75a-fe6d79acf410",
        "colab": {
          "base_uri": "https://localhost:8080/"
        }
      },
      "outputs": [
        {
          "output_type": "execute_result",
          "data": {
            "text/plain": [
              "{x: 2, y: 1}"
            ]
          },
          "metadata": {},
          "execution_count": 8
        }
      ],
      "source": [
        "# czyli x=2, y=1\n",
        "# Sprawdzamy w sympy\n",
        "sp.solve([eq1,eq2])"
      ]
    },
    {
      "cell_type": "markdown",
      "metadata": {
        "id": "zlQW1ECWW4Kf"
      },
      "source": [
        "---\n",
        "\n",
        "### Zadania dla studentów\n",
        "\n",
        "Analogicznie jak wyżej rozwiąż następujące układy równań:\n",
        "\n",
        "* $3x-2y=5, \\quad 2x+3y=7$,\n",
        "* $2x-3y=10, \\quad 4x+5y=20$,\n",
        "* $2x - y + z = 3, \\quad x + 2y - z = 1, \\quad 3x - y + 2z = 11$.\n",
        "* $2x-3y+4z+2t=2, \\quad 3x+2y-5z+3t=3, \\quad 4x-3y+2z-5t=4, \\quad 5x+4y-3z+2t=5$.\n"
      ]
    },
    {
      "cell_type": "code",
      "source": [
        "# Definiowanie zmiennych x i y (Определение переменных x и y)\n",
        "x, y = symbols('x y')\n",
        "\n",
        "# Definiowanie równań: (Определение уравнений:)\n",
        "\n",
        "eq1 = EnhancedEq(3*x - 2*y, 5) # 3x - 2y = 5\n",
        "eq2 = EnhancedEq(2*x + 3*y, 7) # 2x + 3y = 7\n",
        "\n",
        "# Dodawanie obu równań w celu eliminacji jednej zmiennej (Сложение обоих уравнений для устранения одной переменной)\n",
        "eq3 = eq1 + eq2\n",
        "\n",
        "# Rozwiązanie eq3 dla x (Решение eq3 для x)\n",
        "sol_x = eq3.solve_for(x)[0]\n",
        "\n",
        "# Podstawianie wartości x do eq2 (Подстановка значения x в eq2)\n",
        "eq2 = eq2.substitute(x, sol_x)\n",
        "\n",
        "# Rozwiązanie eq2 dla y (Решение eq2 для y)\n",
        "sol_y = eq2.solve_for(y)[0]\n",
        "\n",
        "# Podstawianie wartości y do eq1 w celu rozwiązania dla x (Подстановка значения y в eq1 для решения x)\n",
        "eq1 = eq1.substitute(y, sol_y)\n",
        "sol_x = eq1.solve_for(x)[0]\n",
        "\n",
        "# Wyświetlanie wyników (Вывод результатов)\n",
        "print(f\"x = {sol_x}\\ny = {sol_y}\")"
      ],
      "metadata": {
        "id": "M105ZSNlejRk",
        "outputId": "9ed09759-f9ab-4fce-bbcc-02eb9332eb7b",
        "colab": {
          "base_uri": "https://localhost:8080/"
        }
      },
      "execution_count": 2,
      "outputs": [
        {
          "output_type": "stream",
          "name": "stdout",
          "text": [
            "x = 29/13\n",
            "y = 11/13\n"
          ]
        }
      ]
    },
    {
      "cell_type": "code",
      "source": [
        "# Definiowanie zmiennych x i y (Определение переменных x и y)\n",
        "x, y = symbols('x y')\n",
        "\n",
        "# Definiowanie równań: (Определение уравнений:)\n",
        "\n",
        "eq1 = EnhancedEq(2*x - 3*y, 10) # 2x - 3y = 10\n",
        "eq2 = EnhancedEq(4*x + 5*y, 20) # 4x + 5y = 20\n",
        "\n",
        "# Dodawanie obu równań w celu eliminacji jednej zmiennej (Сложение обоих уравнений для устранения одной переменной)\n",
        "eq3 = eq1 + eq2\n",
        "\n",
        "# Rozwiązanie eq3 dla x (Решение eq3 для x)\n",
        "sol_x = eq3.solve_for(x)[0]\n",
        "\n",
        "# Podstawianie wartości x do eq2 (Подстановка значения x в eq2)\n",
        "eq2 = eq2.substitute(x, sol_x)\n",
        "\n",
        "# Rozwiązanie eq2 dla y (Решение eq2 для y)\n",
        "sol_y = eq2.solve_for(y)[0]\n",
        "\n",
        "# Podstawianie wartości y do eq1 w celu rozwiązania dla x (Подстановка значения y в eq1 для решения x)\n",
        "eq1 = eq1.substitute(y, sol_y)\n",
        "sol_x = eq1.solve_for(x)[0]\n",
        "\n",
        "# Wyświetlanie wyników (Вывод результатов)\n",
        "print(f\"x = {sol_x}\\ny = {sol_y}\")"
      ],
      "metadata": {
        "id": "rodMA-AMkdDG",
        "outputId": "3cb4f001-8fc3-4812-92b1-cd8346ab2ea7",
        "colab": {
          "base_uri": "https://localhost:8080/"
        }
      },
      "execution_count": 3,
      "outputs": [
        {
          "output_type": "stream",
          "name": "stdout",
          "text": [
            "x = 5\n",
            "y = 0\n"
          ]
        }
      ]
    },
    {
      "cell_type": "code",
      "source": [
        "# Определение переменных (Definiowanie zmiennych)\n",
        "x, y, z = symbols('x y z')\n",
        "\n",
        "# Определение уравнений (Definiowanie równań)\n",
        "eq1 = EnhancedEq(2*x - y + z, 3)  # 2x - y + z = 3\n",
        "eq2 = EnhancedEq(x + 2*y - z, 1)  # x + 2y - z = 1\n",
        "eq3 = EnhancedEq(3*x - y + 2*z, 11)  # 3x - y + 2z = 11\n",
        "\n",
        "eq4 = eq1 + eq2\n",
        "\n",
        "sol_x = sp.solve(eq4, x)\n",
        "print(sol_x)\n",
        "\n",
        "eq2 = eq2.subs(x, sol_x[0])\n",
        "sol_y = sp.solve(eq2, y)\n",
        "print(sol_y)\n",
        "\n",
        "eq3 = eq3.subs({y:sol_y[0], x:sol_x[0]})\n",
        "sol_z = sp.solve(eq3, z)\n",
        "print(sol_z_t)\n",
        "\n",
        "#sol_y = sol_y.subs(z, sol_z[0])\n",
        "#sol_y\n",
        "#######попроботаь в переменные sol_x sol_y подставить недостающие переменных"
      ],
      "metadata": {
        "id": "vAagCEEbWH9B",
        "outputId": "8d15056d-4349-4c29-f7eb-ae0c50fad15c",
        "colab": {
          "base_uri": "https://localhost:8080/"
        }
      },
      "execution_count": 23,
      "outputs": [
        {
          "output_type": "stream",
          "name": "stdout",
          "text": [
            "[4/3 - y/3]\n",
            "[3*z/5 - 1/5]\n",
            "[33/4]\n"
          ]
        }
      ]
    },
    {
      "cell_type": "code",
      "source": [
        "# Nie mogę zrozumieć, jak to ma działać (хуета какая-то)\n",
        "# Определение переменных (Definiowanie zmiennych)\n",
        "x, y, z = symbols('x y z')\n",
        "\n",
        "# Определение уравнений (Definiowanie równań)\n",
        "eq1 = EnhancedEq(2*x - y + z, 3)  # 2x - y + z = 3\n",
        "eq2 = EnhancedEq(x + 2*y - z, 1)  # x + 2y - z = 1\n",
        "eq3 = EnhancedEq(3*x - y + 2*z, 11)  # 3x - y + 2z = 11\n",
        "\n",
        "# Шаг 1: исключение z (Krok 1: eliminacja z)\n",
        "# Сложим eq1 и eq2, чтобы исключить z (Dodajemy eq1 do eq2, aby wyeliminować z)\n",
        "eq4 = eq1 + eq2  # 3x + y = 4\n",
        "\n",
        "# Решаем eq4 для x (Rozwiązujemy eq4 dla x)\n",
        "sol_x = eq4.solve_for(x)[0]  # x = (4 - y) / 3\n",
        "\n",
        "# Подставляем значение x в eq2 (Podstawiamy wartość x do eq2)\n",
        "eq2_sub = eq2.substitute(x, sol_x)\n",
        "\n",
        "# Решаем eq2 для y (Rozwiązujemy eq2 dla y)\n",
        "sol_y = eq2_sub.solve_for(y)[0]  # y = (1+3z) / 5\n",
        "\n",
        "# Подставляем найденные значения x и y в eq3 (Podstawiamy wartości x i y do eq3)\n",
        "eq1_sub = eq1.substitute({x: sol_x, y: sol_y})\n",
        "\n",
        "# Решаем eq3 для z (Rozwiązujemy eq3 dla z)\n",
        "sol_z = eq1_sub.solve_for(z)[0]  # z = 3\n",
        "\n",
        "# Подставляем значения y и z в eq1 для решения x (Podstawiamy wartości y i z do eq1 w celu rozwiązania dla x)\n",
        "eq1_sub = eq1.substitute({y: sol_y, z: sol_z})\n",
        "sol_x = eq1_sub.solve_for(x)[0]  # x = 2\n",
        "\n",
        "# Выводим результаты (Wyświetlamy wyniki):\n",
        "print(f\"x = {sol_x}\\ny = {sol_y}\\nz = {sol_z}\")"
      ],
      "metadata": {
        "id": "3-qaHz-HqZLT",
        "outputId": "cc1e404f-f2d8-4f3c-b1fa-0fef86247c14",
        "colab": {
          "base_uri": "https://localhost:8080/",
          "height": 211
        }
      },
      "execution_count": 7,
      "outputs": [
        {
          "output_type": "error",
          "ename": "AttributeError",
          "evalue": "'BooleanTrue' object has no attribute 'solve_for'",
          "traceback": [
            "\u001b[0;31m---------------------------------------------------------------------------\u001b[0m",
            "\u001b[0;31mAttributeError\u001b[0m                            Traceback (most recent call last)",
            "\u001b[0;32m<ipython-input-7-b1b79c0dabc2>\u001b[0m in \u001b[0;36m<cell line: 27>\u001b[0;34m()\u001b[0m\n\u001b[1;32m     25\u001b[0m \u001b[0;34m\u001b[0m\u001b[0m\n\u001b[1;32m     26\u001b[0m \u001b[0;31m# Решаем eq3 для z (Rozwiązujemy eq3 dla z)\u001b[0m\u001b[0;34m\u001b[0m\u001b[0;34m\u001b[0m\u001b[0m\n\u001b[0;32m---> 27\u001b[0;31m \u001b[0msol_z\u001b[0m \u001b[0;34m=\u001b[0m \u001b[0meq1_sub\u001b[0m\u001b[0;34m.\u001b[0m\u001b[0msolve_for\u001b[0m\u001b[0;34m(\u001b[0m\u001b[0mz\u001b[0m\u001b[0;34m)\u001b[0m\u001b[0;34m[\u001b[0m\u001b[0;36m0\u001b[0m\u001b[0;34m]\u001b[0m  \u001b[0;31m# z = 3\u001b[0m\u001b[0;34m\u001b[0m\u001b[0;34m\u001b[0m\u001b[0m\n\u001b[0m\u001b[1;32m     28\u001b[0m \u001b[0;34m\u001b[0m\u001b[0m\n\u001b[1;32m     29\u001b[0m \u001b[0;31m# Подставляем значения y и z в eq1 для решения x (Podstawiamy wartości y i z do eq1 w celu rozwiązania dla x)\u001b[0m\u001b[0;34m\u001b[0m\u001b[0;34m\u001b[0m\u001b[0m\n",
            "\u001b[0;31mAttributeError\u001b[0m: 'BooleanTrue' object has no attribute 'solve_for'"
          ]
        }
      ]
    },
    {
      "cell_type": "markdown",
      "metadata": {
        "id": "UoIOBQ4eW4Kf"
      },
      "source": []
    }
  ],
  "metadata": {
    "kernelspec": {
      "display_name": ".venv",
      "language": "python",
      "name": "python3"
    },
    "language_info": {
      "codemirror_mode": {
        "name": "ipython",
        "version": 3
      },
      "file_extension": ".py",
      "mimetype": "text/x-python",
      "name": "python",
      "nbconvert_exporter": "python",
      "pygments_lexer": "ipython3",
      "version": "3.11.9"
    },
    "colab": {
      "provenance": []
    }
  },
  "nbformat": 4,
  "nbformat_minor": 0
}