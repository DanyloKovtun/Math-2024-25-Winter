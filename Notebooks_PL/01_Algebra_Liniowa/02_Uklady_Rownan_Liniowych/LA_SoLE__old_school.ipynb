{
  "cells": [
    {
      "cell_type": "markdown",
      "metadata": {
        "id": "ita6NoejW4KZ"
      },
      "source": [
        "## Metoda szkolna rozwiązania układu równań liniowych"
      ]
    },
    {
      "cell_type": "code",
      "execution_count": 1,
      "metadata": {
        "id": "qnKblC04W4Kc"
      },
      "outputs": [],
      "source": [
        "import sympy as sp\n",
        "from sympy import symbols, Eq, expand, solve\n",
        "\n",
        "class EnhancedEq(Eq):\n",
        "    def __add__(self, other):\n",
        "        return EnhancedEq(self.lhs + other.lhs, self.rhs + other.rhs)\n",
        "\n",
        "    def __sub__(self, other):\n",
        "        return EnhancedEq(self.lhs - other.lhs, self.rhs - other.rhs)\n",
        "\n",
        "    def __mul__(self, scalar):\n",
        "        return EnhancedEq(scalar * self.lhs, scalar * self.rhs)\n",
        "\n",
        "    def __rmul__(self, scalar):\n",
        "        return self.__mul__(scalar)\n",
        "\n",
        "    def simplify(self):\n",
        "        return EnhancedEq(expand(self.lhs), expand(self.rhs))\n",
        "\n",
        "    def substitute(self, *args, **kwargs):\n",
        "        return EnhancedEq(self.lhs.subs(*args, **kwargs), self.rhs.subs(*args, **kwargs))\n",
        "\n",
        "    def solve_for(self, symbol):\n",
        "        return solve(self, symbol)\n",
        "\n",
        "# Przykład użycia:\n",
        "x, y = symbols('x y')\n",
        "\n",
        "# Definicja równań\n",
        "eq1 = EnhancedEq(2*x + y, 5)\n",
        "eq2 = EnhancedEq(x - y, 1)"
      ]
    },
    {
      "cell_type": "code",
      "execution_count": null,
      "metadata": {
        "id": "6lnYQ8LcW4Kd",
        "outputId": "2b62494c-b76f-486e-d388-4bd74d57ae04",
        "colab": {
          "base_uri": "https://localhost:8080/",
          "height": 56
        }
      },
      "outputs": [
        {
          "output_type": "stream",
          "name": "stdout",
          "text": [
            "Piersze równanie:\n"
          ]
        },
        {
          "output_type": "execute_result",
          "data": {
            "text/plain": [
              "Eq(2*x + y, 5)"
            ],
            "text/latex": "$\\displaystyle 2 x + y = 5$"
          },
          "metadata": {},
          "execution_count": 2
        }
      ],
      "source": [
        "print(\"Piersze równanie:\")\n",
        "eq1"
      ]
    },
    {
      "cell_type": "code",
      "execution_count": null,
      "metadata": {
        "id": "ovH8IfKRW4Ke",
        "outputId": "eaa4f4e7-30f4-49a2-db82-d345cd10d33a",
        "colab": {
          "base_uri": "https://localhost:8080/",
          "height": 56
        }
      },
      "outputs": [
        {
          "output_type": "stream",
          "name": "stdout",
          "text": [
            "Drugie równanie:\n"
          ]
        },
        {
          "output_type": "execute_result",
          "data": {
            "text/plain": [
              "Eq(x - y, 1)"
            ],
            "text/latex": "$\\displaystyle x - y = 1$"
          },
          "metadata": {},
          "execution_count": 3
        }
      ],
      "source": [
        "print(\"Drugie równanie:\")\n",
        "eq2"
      ]
    },
    {
      "cell_type": "code",
      "execution_count": null,
      "metadata": {
        "id": "fEHSOe57W4Ke",
        "outputId": "987ae16a-923c-4fd6-d41c-ede340789c03",
        "colab": {
          "base_uri": "https://localhost:8080/",
          "height": 39
        }
      },
      "outputs": [
        {
          "output_type": "execute_result",
          "data": {
            "text/plain": [
              "Eq(3*x, 6)"
            ],
            "text/latex": "$\\displaystyle 3 x = 6$"
          },
          "metadata": {},
          "execution_count": 4
        }
      ],
      "source": [
        "# Dodajemy do siebie równania\n",
        "eq3 = eq1 + eq2\n",
        "eq3"
      ]
    },
    {
      "cell_type": "code",
      "execution_count": null,
      "metadata": {
        "id": "HeyCZ1PVW4Ke",
        "outputId": "89a33fad-5de8-47c4-d368-1746444cb3e0",
        "colab": {
          "base_uri": "https://localhost:8080/",
          "height": 37
        }
      },
      "outputs": [
        {
          "output_type": "execute_result",
          "data": {
            "text/plain": [
              "2"
            ],
            "text/latex": "$\\displaystyle 2$"
          },
          "metadata": {},
          "execution_count": 5
        }
      ],
      "source": [
        "# Mamy równanie z jedną niewiadomą więc możemy je rozwiązać\n",
        "sol_x = eq3.solve_for(x)[0]\n",
        "sol_x"
      ]
    },
    {
      "cell_type": "code",
      "execution_count": null,
      "metadata": {
        "id": "x-cjUOsBW4Kf",
        "outputId": "321b5b76-49f7-4e52-dcf7-53d8977857bd",
        "colab": {
          "base_uri": "https://localhost:8080/",
          "height": 39
        }
      },
      "outputs": [
        {
          "output_type": "execute_result",
          "data": {
            "text/plain": [
              "Eq(2 - y, 1)"
            ],
            "text/latex": "$\\displaystyle 2 - y = 1$"
          },
          "metadata": {},
          "execution_count": 6
        }
      ],
      "source": [
        "# Podstawiamy rozwiązanie do równania 2\n",
        "eq2=eq2.substitute(x,sol_x)\n",
        "eq2"
      ]
    },
    {
      "cell_type": "code",
      "execution_count": null,
      "metadata": {
        "id": "jNeu7AwOW4Kf",
        "outputId": "4171c96e-9993-4c66-f492-4cca4df3237e",
        "colab": {
          "base_uri": "https://localhost:8080/",
          "height": 37
        }
      },
      "outputs": [
        {
          "output_type": "execute_result",
          "data": {
            "text/plain": [
              "1"
            ],
            "text/latex": "$\\displaystyle 1$"
          },
          "metadata": {},
          "execution_count": 7
        }
      ],
      "source": [
        "# Dostajemy równanie z jedną niewiadomą więc możemy je rozwiązać\n",
        "eq2.solve_for(y)[0]"
      ]
    },
    {
      "cell_type": "code",
      "execution_count": null,
      "metadata": {
        "id": "5UOfXf4sW4Kf",
        "outputId": "20d813f3-91e2-45a8-e75a-fe6d79acf410",
        "colab": {
          "base_uri": "https://localhost:8080/"
        }
      },
      "outputs": [
        {
          "output_type": "execute_result",
          "data": {
            "text/plain": [
              "{x: 2, y: 1}"
            ]
          },
          "metadata": {},
          "execution_count": 8
        }
      ],
      "source": [
        "# czyli x=2, y=1\n",
        "# Sprawdzamy w sympy\n",
        "sp.solve([eq1,eq2])"
      ]
    },
    {
      "cell_type": "markdown",
      "metadata": {
        "id": "zlQW1ECWW4Kf"
      },
      "source": [
        "---\n",
        "\n",
        "### Zadania dla studentów\n",
        "\n",
        "Analogicznie jak wyżej rozwiąż następujące układy równań:\n",
        "\n",
        "* $3x-2y=5, \\quad 2x+3y=7$,\n",
        "* $2x-3y=10, \\quad 4x+5y=20$,\n",
        "* $2x - y + z = 3, \\quad x + 2y - z = 1, \\quad 3x - y + 2z = 11$.\n",
        "* $2x-3y+4z+2t=2, \\quad 3x+2y-5z+3t=3, \\quad 4x-3y+2z-5t=4, \\quad 5x+4y-3z+2t=5$.\n"
      ]
    },
    {
      "cell_type": "code",
      "source": [
        "# Definiowanie zmiennych x i y (Определение переменных x и y)\n",
        "x, y = symbols('x y')\n",
        "\n",
        "# Definiowanie równań: (Определение уравнений:)\n",
        "\n",
        "eq1 = EnhancedEq(3*x - 2*y, 5) # 3x - 2y = 5\n",
        "eq2 = EnhancedEq(2*x + 3*y, 7) # 2x + 3y = 7\n",
        "\n",
        "# Dodawanie obu równań w celu eliminacji jednej zmiennej (Сложение обоих уравнений для устранения одной переменной)\n",
        "eq3 = eq1 + eq2\n",
        "\n",
        "# Rozwiązanie eq3 dla x (Решение eq3 для x)\n",
        "sol_x = eq3.solve_for(x)[0]\n",
        "\n",
        "# Podstawianie wartości x do eq2 (Подстановка значения x в eq2)\n",
        "eq2 = eq2.substitute(x, sol_x)\n",
        "\n",
        "# Rozwiązanie eq2 dla y (Решение eq2 для y)\n",
        "sol_y = eq2.solve_for(y)[0]\n",
        "\n",
        "# Podstawianie wartości y do eq1 w celu rozwiązania dla x (Подстановка значения y в eq1 для решения x)\n",
        "eq1 = eq1.substitute(y, sol_y)\n",
        "sol_x = eq1.solve_for(x)[0]\n",
        "\n",
        "# Wyświetlanie wyników (Вывод результатов)\n",
        "print(f\"x = {sol_x}\\ny = {sol_y}\")"
      ],
      "metadata": {
        "id": "M105ZSNlejRk",
        "outputId": "9ed09759-f9ab-4fce-bbcc-02eb9332eb7b",
        "colab": {
          "base_uri": "https://localhost:8080/"
        }
      },
      "execution_count": 2,
      "outputs": [
        {
          "output_type": "stream",
          "name": "stdout",
          "text": [
            "x = 29/13\n",
            "y = 11/13\n"
          ]
        }
      ]
    },
    {
      "cell_type": "code",
      "source": [
        "# Definiowanie zmiennych x i y (Определение переменных x и y)\n",
        "x, y = symbols('x y')\n",
        "\n",
        "# Definiowanie równań: (Определение уравнений:)\n",
        "\n",
        "eq1 = EnhancedEq(2*x - 3*y, 10) # 2x - 3y = 10\n",
        "eq2 = EnhancedEq(4*x + 5*y, 20) # 4x + 5y = 20\n",
        "\n",
        "# Dodawanie obu równań w celu eliminacji jednej zmiennej (Сложение обоих уравнений для устранения одной переменной)\n",
        "eq3 = eq1 + eq2\n",
        "\n",
        "# Rozwiązanie eq3 dla x (Решение eq3 для x)\n",
        "sol_x = eq3.solve_for(x)[0]\n",
        "\n",
        "# Podstawianie wartości x do eq2 (Подстановка значения x в eq2)\n",
        "eq2 = eq2.substitute(x, sol_x)\n",
        "\n",
        "# Rozwiązanie eq2 dla y (Решение eq2 для y)\n",
        "sol_y = eq2.solve_for(y)[0]\n",
        "\n",
        "# Podstawianie wartości y do eq1 w celu rozwiązania dla x (Подстановка значения y в eq1 для решения x)\n",
        "eq1 = eq1.substitute(y, sol_y)\n",
        "sol_x = eq1.solve_for(x)[0]\n",
        "\n",
        "# Wyświetlanie wyników (Вывод результатов)\n",
        "print(f\"x = {sol_x}\\ny = {sol_y}\")"
      ],
      "metadata": {
        "id": "rodMA-AMkdDG",
        "outputId": "3cb4f001-8fc3-4812-92b1-cd8346ab2ea7",
        "colab": {
          "base_uri": "https://localhost:8080/"
        }
      },
      "execution_count": 3,
      "outputs": [
        {
          "output_type": "stream",
          "name": "stdout",
          "text": [
            "x = 5\n",
            "y = 0\n"
          ]
        }
      ]
    },
    {
      "cell_type": "code",
      "source": [
        "# Definicja zmiennych (Определение переменных)\n",
        "x, y, z = symbols('x y z')  # Tworzymy trzy zmienne x, y, z przy użyciu funkcji symbols (Создаем три переменные x, y, z с помощью функции symbols)\n",
        "\n",
        "# Definicja równań (Определение уравнений)\n",
        "eq1 = EnhancedEq(2*x - y + z, 3)  # Tworzymy równanie eq1: 2x - y + z = 3 (Создаем уравнение eq1: 2x - y + z = 3)\n",
        "eq2 = EnhancedEq(x + 2*y - z, 1)  # Tworzymy równanie eq2: x + 2y - z = 1 (Создаем уравнение eq2: x + 2y - z = 1)\n",
        "eq3 = EnhancedEq(3*x - y + 2*z, 11)  # Tworzymy równanie eq3: 3x - y + 2z = 11 (Создаем уравнение eq3: 3x - y + 2z = 11)\n",
        "\n",
        "# Krok 1: eliminacja z (Шаг 1: исключение z)\n",
        "# Dodajemy eq1 do eq2, aby wyeliminować zmienną z (Складываем eq1 и eq2, чтобы исключить переменную z)\n",
        "eq4 = eq1 + eq2  # Wynik dodania: 3x + y = 4 (Результат сложения: 3x + y = 4)\n",
        "\n",
        "# Rozwiązujemy eq4 dla y (Решаем eq4 для y)\n",
        "sol_x = eq4.solve_for(x)[0]  # Wyznaczamy x z równania: x = (4 - y) / 3 (Находим x из уравнения: x = (4 - y) / 3)\n",
        "\n",
        "# Podstawiamy wartość y do eq2 (Подставляем значение y в eq2)\n",
        "eq2_sub = eq2.substitute(x, sol_x)  # Zastępujemy x wyrażeniem (4 - y) / 3 w eq2 (Заменяем x на выражение (4 - y) / 3 в eq2)\n",
        "\n",
        "# Rozwiązujemy eq2 dla z (Решаем eq2 для z)\n",
        "sol_y = eq2_sub.solve_for(y)[0]  # Wyznaczamy y z eq2: y = (1 + 3z) / 5 (Находим y из eq2: y = (1 + 3z) / 5)\n",
        "\n",
        "# Podstawiamy wartości y i z do eq3 (Подставляем значения y и z в eq3)\n",
        "eq3_sub = eq3.substitute({y: sol_y, x: sol_x})  # Zastępujemy y i x ich wyrażeniami w eq3 (Заменяем y и x на их выражения в eq3)\n",
        "\n",
        "# Rozwiązujemy eq3 dla z (Решаем eq3 для z)\n",
        "sol_z = eq3_sub.solve_for(z)[0]  # Wyznaczamy z z eq3: z = wartość (Находим z из eq3: z = значение)\n",
        "\n",
        "# Podstawiamy wartość z, aby obliczyć y i x (Подставляем значение z, чтобы вычислить y и x)\n",
        "sol_y = sol_y.subs(z, sol_z)  # Podstawiamy z w równaniu na y, aby wyznaczyć y (Подставляем z в уравнение для y, чтобы найти y)\n",
        "sol_x = sol_x.subs(y, sol_y)  # Podstawiamy y w równaniu na x, aby wyznaczyć x (Подставляем y в уравнение для x, чтобы найти x)\n",
        "\n",
        "# Drukujemy wynik (Выводим результат)\n",
        "print(f\"x = {sol_x}\\ny = {sol_y}\\nz = {sol_z}\")  # Wyświetlamy rozwiązanie dla x, y i z (Отображаем решение для x, y и z)"
      ],
      "metadata": {
        "colab": {
          "base_uri": "https://localhost:8080/"
        },
        "id": "vAagCEEbWH9B",
        "outputId": "dca60377-3ef9-43a8-957b-b6854f3e3f57"
      },
      "execution_count": 2,
      "outputs": [
        {
          "output_type": "stream",
          "name": "stdout",
          "text": [
            "x = -1/4\n",
            "y = 19/4\n",
            "z = 33/4\n"
          ]
        }
      ]
    },
    {
      "cell_type": "markdown",
      "metadata": {
        "id": "UoIOBQ4eW4Kf"
      },
      "source": []
    }
  ],
  "metadata": {
    "kernelspec": {
      "display_name": ".venv",
      "language": "python",
      "name": "python3"
    },
    "language_info": {
      "codemirror_mode": {
        "name": "ipython",
        "version": 3
      },
      "file_extension": ".py",
      "mimetype": "text/x-python",
      "name": "python",
      "nbconvert_exporter": "python",
      "pygments_lexer": "ipython3",
      "version": "3.11.9"
    },
    "colab": {
      "provenance": []
    }
  },
  "nbformat": 4,
  "nbformat_minor": 0
}