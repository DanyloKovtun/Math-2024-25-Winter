{
  "cells": [
    {
      "cell_type": "markdown",
      "metadata": {
        "id": "oYqRC5rPgxzZ"
      },
      "source": [
        "## Metoda szkolna rozwiązania układu równań liniowych"
      ]
    },
    {
      "cell_type": "code",
      "execution_count": null,
      "metadata": {
        "id": "Rlr1wJG3gxzb"
      },
      "outputs": [],
      "source": [
        "import sympy as sp\n",
        "from sympy import symbols, Eq, expand, solve\n",
        "\n",
        "class EnhancedEq(Eq):\n",
        "    def __add__(self, other):\n",
        "        return EnhancedEq(self.lhs + other.lhs, self.rhs + other.rhs)\n",
        "\n",
        "    def __sub__(self, other):\n",
        "        return EnhancedEq(self.lhs - other.lhs, self.rhs - other.rhs)\n",
        "\n",
        "    def __mul__(self, scalar):\n",
        "        return EnhancedEq(scalar * self.lhs, scalar * self.rhs)\n",
        "\n",
        "    def __rmul__(self, scalar):\n",
        "        return self.__mul__(scalar)\n",
        "\n",
        "    def simplify(self):\n",
        "        return EnhancedEq(expand(self.lhs), expand(self.rhs))\n",
        "\n",
        "    def substitute(self, *args, **kwargs):\n",
        "        return EnhancedEq(self.lhs.subs(*args, **kwargs), self.rhs.subs(*args, **kwargs))\n",
        "\n",
        "    def solve_for(self, symbol):\n",
        "        return solve(self, symbol)\n",
        "\n",
        "# Przykład użycia:\n",
        "x, y = symbols('x y')\n",
        "\n",
        "# Definicja równań\n",
        "eq1 = EnhancedEq(2*x + y, 5)\n",
        "eq2 = EnhancedEq(x - y, 1)"
      ]
    },
    {
      "cell_type": "code",
      "execution_count": null,
      "metadata": {
        "id": "LgBR5TTTgxze",
        "outputId": "78597fb9-943e-44cc-e226-a088fbe6a9c5"
      },
      "outputs": [
        {
          "name": "stdout",
          "output_type": "stream",
          "text": [
            "Piersze równanie:\n"
          ]
        },
        {
          "data": {
            "text/latex": [
              "$\\displaystyle 2 x + y = 5$"
            ],
            "text/plain": [
              "Eq(2*x + y, 5)"
            ]
          },
          "execution_count": 10,
          "metadata": {},
          "output_type": "execute_result"
        }
      ],
      "source": [
        "print(\"Piersze równanie:\")\n",
        "eq1"
      ]
    },
    {
      "cell_type": "code",
      "execution_count": null,
      "metadata": {
        "id": "Nss2OEB0gxzf",
        "outputId": "3bf2d2c0-a587-4fe8-c380-3acdfd2ea8ff"
      },
      "outputs": [
        {
          "name": "stdout",
          "output_type": "stream",
          "text": [
            "Drugie równanie:\n"
          ]
        },
        {
          "data": {
            "text/latex": [
              "$\\displaystyle x - y = 1$"
            ],
            "text/plain": [
              "Eq(x - y, 1)"
            ]
          },
          "execution_count": 11,
          "metadata": {},
          "output_type": "execute_result"
        }
      ],
      "source": [
        "print(\"Drugie równanie:\")\n",
        "eq2"
      ]
    },
    {
      "cell_type": "code",
      "execution_count": null,
      "metadata": {
        "id": "VNRWYb2Rgxzg",
        "outputId": "9e71c094-34e8-40ff-db72-7f39ab84b276"
      },
      "outputs": [
        {
          "data": {
            "text/latex": [
              "$\\displaystyle 3 x = 6$"
            ],
            "text/plain": [
              "Eq(3*x, 6)"
            ]
          },
          "execution_count": 12,
          "metadata": {},
          "output_type": "execute_result"
        }
      ],
      "source": [
        "# Dodajemy do siebie równania\n",
        "eq3 = eq1 + eq2\n",
        "eq3"
      ]
    },
    {
      "cell_type": "code",
      "execution_count": null,
      "metadata": {
        "id": "mZJTlJq_gxzh",
        "outputId": "812ba0d1-17bc-4301-d36b-b68fb615c902"
      },
      "outputs": [
        {
          "data": {
            "text/latex": [
              "$\\displaystyle 2$"
            ],
            "text/plain": [
              "2"
            ]
          },
          "execution_count": 13,
          "metadata": {},
          "output_type": "execute_result"
        }
      ],
      "source": [
        "# Mamy równanie z jedną niewiadomą więc możemy je rozwiązać\n",
        "sol_x = eq3.solve_for(x)[0]\n",
        "sol_x"
      ]
    },
    {
      "cell_type": "code",
      "execution_count": null,
      "metadata": {
        "id": "slkLdw6Wgxzi",
        "outputId": "6998b1e5-490a-46dc-ad98-83feec48c0af"
      },
      "outputs": [
        {
          "data": {
            "text/latex": [
              "$\\displaystyle 2 - y = 1$"
            ],
            "text/plain": [
              "Eq(2 - y, 1)"
            ]
          },
          "execution_count": 14,
          "metadata": {},
          "output_type": "execute_result"
        }
      ],
      "source": [
        "# Podstawiamy rozwiązanie do równania 2\n",
        "eq2=eq2.substitute(x,sol_x)\n",
        "eq2"
      ]
    },
    {
      "cell_type": "code",
      "execution_count": null,
      "metadata": {
        "id": "ZAOCowAYgxzj",
        "outputId": "a8699301-4778-40f5-a0b0-1f1a5b5a46e2"
      },
      "outputs": [
        {
          "data": {
            "text/latex": [
              "$\\displaystyle 1$"
            ],
            "text/plain": [
              "1"
            ]
          },
          "execution_count": 15,
          "metadata": {},
          "output_type": "execute_result"
        }
      ],
      "source": [
        "# Dostajemy równanie z jedną niewiadomą więc możemy je rozwiązać\n",
        "eq2.solve_for(y)[0]"
      ]
    },
    {
      "cell_type": "code",
      "execution_count": null,
      "metadata": {
        "id": "djA6XK5zgxzk",
        "outputId": "4e73f266-ed64-4424-c63d-83bc76470ab8"
      },
      "outputs": [
        {
          "data": {
            "text/plain": [
              "{x: 2, y: 1}"
            ]
          },
          "execution_count": 16,
          "metadata": {},
          "output_type": "execute_result"
        }
      ],
      "source": [
        "# czyli x=2, y=1\n",
        "# Sprawdzamy w sympy\n",
        "sp.solve([eq1,eq2])"
      ]
    },
    {
      "cell_type": "markdown",
      "metadata": {
        "id": "CF5bFzF0gxzk"
      },
      "source": [
        "---\n",
        "\n",
        "### Zadania dla studentów\n",
        "\n",
        "Analogicznie jak wyżej rozwiąż następujące układy równań:\n",
        "\n",
        "* $3x-2y=5, \\quad 2x+3y=7$,\n",
        "* $2x-3y=10, \\quad 4x+5y=20$,\n",
        "* $2x - y + z = 3, \\quad x + 2y - z = 1, \\quad 3x - y + 2z = 11$.\n",
        "* $2x-3y+4z+2t=2, \\quad 3x+2y-5z+3t=3, \\quad 4x-3y+2z-5t=4, \\quad 5x+4y-3z+2t=5$.\n"
      ]
    },
    {
      "cell_type": "markdown",
      "metadata": {
        "id": "ftmizEbAgxzl"
      },
      "source": []
    },
    {
      "cell_type": "code",
      "source": [
        "x, y = symbols('x y')\n",
        "\n",
        "eq1 = EnhancedEq(3*x - 2*y, 5)\n",
        "eq2 = EnhancedEq(2*x + 3*y, 7)\n",
        "\n",
        "eq3 = eq1 + eq2\n",
        "\n",
        "sol_x = eq3.solve_for(x)[0]\n",
        "\n",
        "eq2 = eq2.substitute(x, sol_x)\n",
        "\n",
        "sol_y = eq2.solve_for(y)[0]\n",
        "\n",
        "eq1 = eq1.substitute(y, sol_y)\n",
        "sol_x = eq1.solve_for(x)[0]\n",
        "\n",
        "print(f\"x = {sol_x}\\ny = {sol_y}\")"
      ],
      "metadata": {
        "id": "TM0rv4D9CVsc"
      },
      "execution_count": null,
      "outputs": []
    },
    {
      "cell_type": "code",
      "source": [
        "x, y = symbols('x y')\n",
        "\n",
        "eq1 = EnhancedEq(2*x - 3*y, 10)\n",
        "eq2 = EnhancedEq(4*x + 5*y, 20)\n",
        "\n",
        "eq3 = eq1 + eq2\n",
        "\n",
        "sol_x = eq3.solve_for(x)[0]\n",
        "\n",
        "eq2 = eq2.substitute(x, sol_x)\n",
        "\n",
        "sol_y = eq2.solve_for(y)[0]\n",
        "\n",
        "eq1 = eq1.substitute(y, sol_y)\n",
        "sol_x = eq1.solve_for(x)[0]\n",
        "\n",
        "print(f\"x = {sol_x}\\ny = {sol_y}\")"
      ],
      "metadata": {
        "id": "Ksg2T5rFCWwM"
      },
      "execution_count": null,
      "outputs": []
    },
    {
      "cell_type": "code",
      "source": [
        "x, y, z = symbols('x y z')\n",
        "\n",
        "eq1 = EnhancedEq(2*x - y + z, 3)\n",
        "eq2 = EnhancedEq(x + 2*y - z, 1)\n",
        "eq3 = EnhancedEq(3*x - y + 2*z, 11)\n",
        "\n",
        "eq4 = eq1 + eq2\n",
        "\n",
        "sol_x = eq4.solve_for(x)[0]\n",
        "\n",
        "eq2_sub = eq2.substitute(x, sol_x)\n",
        "\n",
        "sol_y = eq2_sub.solve_for(y)[0]\n",
        "\n",
        "eq3_sub = eq3.substitute({y: sol_y, x: sol_x})\n",
        "\n",
        "sol_z = eq3_sub.solve_for(z)[0]\n",
        "\n",
        "sol_y = sol_y.subs(z, sol_z)\n",
        "sol_x = sol_x.subs(y, sol_y)\n",
        "\n",
        "print(f\"x = {sol_x}\\ny = {sol_y}\\nz = {sol_z}\")"
      ],
      "metadata": {
        "id": "H4xNWWd2CdgL"
      },
      "execution_count": null,
      "outputs": []
    },
    {
      "cell_type": "code",
      "source": [],
      "metadata": {
        "id": "tXSQ0lUaC3tD"
      },
      "execution_count": null,
      "outputs": []
    }
  ],
  "metadata": {
    "kernelspec": {
      "display_name": ".venv",
      "language": "python",
      "name": "python3"
    },
    "language_info": {
      "codemirror_mode": {
        "name": "ipython",
        "version": 3
      },
      "file_extension": ".py",
      "mimetype": "text/x-python",
      "name": "python",
      "nbconvert_exporter": "python",
      "pygments_lexer": "ipython3",
      "version": "3.11.9"
    },
    "colab": {
      "provenance": []
    }
  },
  "nbformat": 4,
  "nbformat_minor": 0
}