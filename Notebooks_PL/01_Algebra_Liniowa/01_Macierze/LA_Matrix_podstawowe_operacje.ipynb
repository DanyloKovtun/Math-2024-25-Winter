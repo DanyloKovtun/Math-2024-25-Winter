{
  "cells": [
    {
      "cell_type": "markdown",
      "metadata": {
        "id": "vrDQwvRUNGXn"
      },
      "source": [
        "## Podstawowe operacje na macierzach\n",
        "\n",
        "### Dodawanie macierzy\n",
        "\n",
        "Niech $A=[a_{ij}]$ i $B=[b_{ij}]$ będą dwiema macierzami o wymiarach $m \\times n$. Wówczas suma macierzy $A$ i $B$ jest macierzą $C=[c_{ij}]$ o wymiarach $m \\times n$, gdzie $c_{ij}=a_{ij}+b_{ij}$.\n",
        "\n",
        "### Mnożenie macierzy przez skalar\n",
        "\n",
        "Niech $A=[a_{ij}]$ będzie macierzą o wymiarach $m \\times n$, a $k$ będzie skalar. Wówczas iloczyn macierzy $A$ i skalaru $k$ jest macierzą $B=[b_{ij}]$ o wymiarach $m \\times n$, gdzie $b_{ij}=k \\cdot a_{ij}$.\n",
        "\n",
        "### Mnożenie macierzy\n",
        "\n",
        "Niech $A=[a_{ij}]$ będzie macierzą o wymiarach $m \\times n$, a $B=[b_{ij}]$ będzie macierzą o wymiarach $n \\times p$. Wówczas iloczyn macierzy $A$ i $B$ jest macierzą $C=[c_{ij}]$ o wymiarach $m \\times p$, gdzie $c_{ij}=\\sum_{k=1}^{n} a_{ik} \\cdot b_{kj}$."
      ]
    },
    {
      "cell_type": "markdown",
      "metadata": {
        "id": "wdgef9ktNGXr"
      },
      "source": [
        "### Przykład 1\n",
        "\n",
        "Niech $A=\\begin{bmatrix} 1 & 2 \\\\ 3 & 4 \\end{bmatrix}$ i $B=\\begin{bmatrix} 5 & 6 \\\\ 7 & 8 \\end{bmatrix}$.\n",
        "Wówczas suma macierzy $A$ i $B$ wynosi\n",
        "\n",
        "$$\n",
        "C=\n",
        "A+B=\\begin{bmatrix} 1+5 & 2+6 \\\\ 3+7 & 4+8 \\end{bmatrix}=\\begin{bmatrix} 6 & 8 \\\\ 10 & 12 \\end{bmatrix}.\n",
        "$$\n",
        "\n",
        "### Przykład 2\n",
        "\n",
        "Niech $A=\\begin{bmatrix} 1 & 2 \\\\ 3 & 4 \\end{bmatrix}$ i $k=2$.\n",
        "\n",
        "Wówczas iloczyn macierzy $A$ i skalaru $k$ wynosi\n",
        "\n",
        "$$\n",
        "B=\n",
        "k \\cdot A=2 \\cdot \\begin{bmatrix} 1 & 2 \\\\ 3 & 4 \\end{bmatrix}=\\begin{bmatrix} 2*1 & 2*2 \\\\ 2*3 & 2*4 \\end{bmatrix}=\\begin{bmatrix} 2 & 4 \\\\ 6 & 8 \\end{bmatrix}.\n",
        "$$\n",
        "\n",
        "### Przykład 3\n",
        "\n",
        "Niech\n",
        "$A=\\begin{bmatrix} 1 & 2 \\\\ 3 & 4 \\end{bmatrix}$\n",
        "i\n",
        "$B=\\begin{bmatrix} 5 & 6 \\\\ 7 & 8 \\end{bmatrix}$.\n",
        "\n",
        "Wówczas iloczyn macierzy $A$ i $B$ wynosi\n",
        "\n",
        "$$\n",
        "C=\n",
        "A \\cdot B=\\begin{bmatrix} 1*5+2*7 & 1*6+2*8 \\\\ 3*5+4*7 & 3*6+4*8 \\end{bmatrix}=\\begin{bmatrix} 19 & 22 \\\\ 43 & 50 \\end{bmatrix}.\n",
        "$$\n"
      ]
    },
    {
      "cell_type": "code",
      "execution_count": null,
      "metadata": {
        "id": "GQBmvyIDNGXt",
        "outputId": "7c0f22a9-79d4-4f34-c40d-d0f2586082f0"
      },
      "outputs": [
        {
          "data": {
            "text/latex": [
              "$\\displaystyle \\left[\\begin{matrix}1 & 2\\\\3 & 4\\end{matrix}\\right]$"
            ],
            "text/plain": [
              "Matrix([\n",
              "[1, 2],\n",
              "[3, 4]])"
            ]
          },
          "execution_count": 2,
          "metadata": {},
          "output_type": "execute_result"
        }
      ],
      "source": [
        "# Przykład 1: dodawania macierzy w sympy\n",
        "import sympy as sp\n",
        "\n",
        "A=sp.Matrix([[1,2],[3,4]])\n",
        "B=sp.Matrix([[5,6],[7,8]])\n",
        "A # wyswietla macierz A"
      ]
    },
    {
      "cell_type": "code",
      "execution_count": null,
      "metadata": {
        "id": "EKnN9B_UNGXw",
        "outputId": "505e87b3-67bc-492b-b264-0934acd2327e"
      },
      "outputs": [
        {
          "data": {
            "text/latex": [
              "$\\displaystyle \\left[\\begin{matrix}5 & 6\\\\7 & 8\\end{matrix}\\right]$"
            ],
            "text/plain": [
              "Matrix([\n",
              "[5, 6],\n",
              "[7, 8]])"
            ]
          },
          "execution_count": 3,
          "metadata": {},
          "output_type": "execute_result"
        }
      ],
      "source": [
        "B # wyswietla macierz B"
      ]
    },
    {
      "cell_type": "code",
      "execution_count": null,
      "metadata": {
        "id": "rcKzRk8PNGXx",
        "outputId": "c59d8110-3888-4716-ad7f-a1b4be4ecccb"
      },
      "outputs": [
        {
          "data": {
            "text/plain": [
              "True"
            ]
          },
          "execution_count": 4,
          "metadata": {},
          "output_type": "execute_result"
        }
      ],
      "source": [
        "sp.Matrix([[6,8],[10,12]])==A+B # sprawdzamy poprawnosc dodawania"
      ]
    },
    {
      "cell_type": "code",
      "execution_count": null,
      "metadata": {
        "id": "Iw5k-_0tNGXy",
        "outputId": "42e1514c-357c-4d07-c407-4bb67952c1cf"
      },
      "outputs": [
        {
          "data": {
            "text/plain": [
              "True"
            ]
          },
          "execution_count": 5,
          "metadata": {},
          "output_type": "execute_result"
        }
      ],
      "source": [
        "# Przykład 2: mnożenia macierzy przez skalar\n",
        "A=sp.Matrix([[1,2],[3,4]]) # definicja macierzy A\n",
        "\n",
        "sp.Matrix([[2,4],[6,8]])==2*A # sprawdzamy poprawnosc mnozenia przez skalar"
      ]
    },
    {
      "cell_type": "code",
      "execution_count": null,
      "metadata": {
        "id": "k0tjSOggNGXz",
        "outputId": "44b97ed2-09f7-4c25-abd5-830926cf7134"
      },
      "outputs": [
        {
          "data": {
            "text/plain": [
              "True"
            ]
          },
          "execution_count": 6,
          "metadata": {},
          "output_type": "execute_result"
        }
      ],
      "source": [
        "# Przykład 3: mnożenia dwóch macierzy\n",
        "\n",
        "A=sp.Matrix([[1,2],[3,4]]) # definicja macierzy A\n",
        "B=sp.Matrix([[5,6],[7,8]]) # definicja macierzy B\n",
        "\n",
        "sp.Matrix([[19,22],[43,50]])==A*B # sprawdzamy poprawnosc mnozenia macierzy"
      ]
    },
    {
      "cell_type": "markdown",
      "metadata": {
        "id": "cApymYVxNGX0"
      },
      "source": [
        "### Warunek konieczny do mnożenia macierzy\n",
        "\n",
        "Pamiętaj, że macierze mogą zawierać różną liczbę wierszy i kolumn.\n",
        "\n",
        "Aby móc pomnożyć dwie macierze $A_{m \\times n}$ i $B_{n \\times k}$, gdzie $A$ ma wymiary $m \\times n$ i $B$ ma wymiary $n \\times k$, liczba kolumn macierzy $A$ musi być równa liczbie wierszy macierzy $B$. W przeciwnym przypadku mnożenie macierzy nie jest możliwe.\n",
        "\n",
        "$$\n",
        "A_{m \\times n} \\cdot B_{n \\times k} = C_{m \\times k}\n",
        "$$\n",
        "\n",
        "Przykładowo, jeśli $A_{3 \\times 3}$ i $B_{3 \\times 3}$, to wynikowa macierz $C_{3 \\times 3}$.\n",
        "\n",
        "<img src=\"https://www.mscroggs.co.uk/img/full/multiply_matrices.gif\" alt=\"Matrix Multiplication GIF\" width=\"400\">"
      ]
    },
    {
      "cell_type": "markdown",
      "metadata": {
        "id": "AaI2uMjxNGX0"
      },
      "source": [
        "### Mnożenie macierzy nie jest przemienne\n",
        "\n",
        "Mnożenie macierzy nie jest przemienne, tzn. w ogólności $A \\cdot B \\neq B \\cdot A$."
      ]
    },
    {
      "cell_type": "code",
      "execution_count": null,
      "metadata": {
        "id": "r1sn7DQ8NGX1",
        "outputId": "ccff9f69-7bf4-430c-9486-2bc15121d086"
      },
      "outputs": [
        {
          "data": {
            "text/latex": [
              "$\\displaystyle \\left[\\begin{matrix}9 & 12 & 15\\\\19 & 26 & 33\\\\29 & 40 & 51\\end{matrix}\\right]$"
            ],
            "text/plain": [
              "Matrix([\n",
              "[ 9, 12, 15],\n",
              "[19, 26, 33],\n",
              "[29, 40, 51]])"
            ]
          },
          "execution_count": 7,
          "metadata": {},
          "output_type": "execute_result"
        }
      ],
      "source": [
        "# Przykład mnożenia macierzy prostokątnych\n",
        "import sympy as sp\n",
        "A=sp.Matrix([[1,2],[3,4],[5,6]]) # definicja macierzy A_{3 x 2}\n",
        "B=sp.Matrix([[1,2,3],[4,5,6]]) # definicja macierzy B_{2 x 3}\n",
        "C=sp.Matrix([[9,12,15],[19,26,33],[29,40,51]]) # definicja macierzy C_{3 x 3}\n",
        "\n",
        "A*B # mnożymy macierze A i B otrzymując macierz 3x3"
      ]
    },
    {
      "cell_type": "code",
      "execution_count": null,
      "metadata": {
        "id": "93sfv0hCNGX2",
        "outputId": "b15fbe64-585b-4c76-88d9-d125546dc30d"
      },
      "outputs": [
        {
          "data": {
            "text/latex": [
              "$\\displaystyle \\left[\\begin{matrix}22 & 28\\\\49 & 64\\end{matrix}\\right]$"
            ],
            "text/plain": [
              "Matrix([\n",
              "[22, 28],\n",
              "[49, 64]])"
            ]
          },
          "execution_count": 8,
          "metadata": {},
          "output_type": "execute_result"
        }
      ],
      "source": [
        "B*A # mnożymy macierze B i A otrzymując macierz 2x2"
      ]
    },
    {
      "cell_type": "code",
      "execution_count": null,
      "metadata": {
        "id": "Y2sAX1DLNGX2",
        "outputId": "b0a910c2-b486-460f-9029-88c3cb529f19"
      },
      "outputs": [
        {
          "data": {
            "text/latex": [
              "$\\displaystyle \\left[\\begin{matrix}134 & 184 & 234\\\\305 & 418 & 531\\end{matrix}\\right]$"
            ],
            "text/plain": [
              "Matrix([\n",
              "[134, 184, 234],\n",
              "[305, 418, 531]])"
            ]
          },
          "execution_count": 9,
          "metadata": {},
          "output_type": "execute_result"
        }
      ],
      "source": [
        "B*C # mnożymy macierze B i C otrzymując macierz 2x3"
      ]
    },
    {
      "cell_type": "markdown",
      "metadata": {
        "id": "GAn5QQjpNGX3"
      },
      "source": [
        "---\n",
        "## Zadania dla studentów\n",
        "\n",
        "1. Oblicz sumę macierzy $A=\\begin{bmatrix} 1 & 2 \\\\ 3 & 4 \\end{bmatrix}$ i $B=\\begin{bmatrix} 5 & 6 \\\\ 7 & 8 \\end{bmatrix}$.\n",
        "\n",
        "\n",
        "\n",
        "2. Oblicz iloczyn macierzy $A=\\begin{bmatrix} 4 & 2 \\\\ 12 & 4 \\end{bmatrix}$ i skalaru $k=\\frac{1}{4}$.\n",
        "\n",
        "\n",
        "\n",
        "\n",
        "3. Oblicz iloczyn $A\\cdot B$ oraz $B \\cdot A$ dla macierzy $A=\\begin{bmatrix} 3 & 2 \\\\ 2 & 4 \\end{bmatrix}$ i $B=\\begin{bmatrix} 4 & 1 \\\\ 6 & 4 \\end{bmatrix}$.\n",
        "\n",
        "\n",
        "\n"
      ]
    },
    {
      "cell_type": "markdown",
      "metadata": {
        "id": "hEV-_GHJNGX3"
      },
      "source": []
    },
    {
      "cell_type": "code",
      "source": [
        "import sympy as sp\n",
        "# № 1\n",
        "A = sp.Matrix([[1, 2], [3, 4]])\n",
        "B = sp.Matrix([[5, 6], [7, 8]])\n",
        "\n",
        "C = A + B\n",
        "print(C)"
      ],
      "metadata": {
        "id": "Su2s5xeArciH",
        "outputId": "89d6342a-f6f4-421f-ada8-322331c04f64",
        "colab": {
          "base_uri": "https://localhost:8080/"
        }
      },
      "execution_count": 4,
      "outputs": [
        {
          "output_type": "stream",
          "name": "stdout",
          "text": [
            "Matrix([[6, 8], [10, 12]])\n"
          ]
        }
      ]
    },
    {
      "cell_type": "code",
      "source": [
        "import sympy as sp\n",
        "# № 2\n",
        "A = sp.Matrix([[4, 2], [12, 4]])\n",
        "k = 1/4\n",
        "\n",
        "C = A * k\n",
        "print(C)"
      ],
      "metadata": {
        "id": "IsdldFj7rfs-",
        "outputId": "1087548f-2711-4363-bf14-5b156be55670",
        "colab": {
          "base_uri": "https://localhost:8080/"
        }
      },
      "execution_count": 3,
      "outputs": [
        {
          "output_type": "stream",
          "name": "stdout",
          "text": [
            "Matrix([[1.00000000000000, 0.500000000000000], [3.00000000000000, 1.00000000000000]])\n"
          ]
        }
      ]
    },
    {
      "cell_type": "code",
      "source": [
        "import sympy as sp\n",
        "# № 3\n",
        "A = sp.Matrix([[3, 2], [2, 4]])\n",
        "B = sp.Matrix([[4, 1], [6, 4]])\n",
        "\n",
        "C = A * B\n",
        "D = B * A\n",
        "print(C)\n",
        "print(D)"
      ],
      "metadata": {
        "id": "gtY6dQv9rnC_",
        "outputId": "daf0dbaa-4a7a-457c-e517-0f1f1a598853",
        "colab": {
          "base_uri": "https://localhost:8080/"
        }
      },
      "execution_count": 2,
      "outputs": [
        {
          "output_type": "stream",
          "name": "stdout",
          "text": [
            "Matrix([[24, 11], [32, 18]])\n",
            "Matrix([[14, 12], [26, 28]])\n"
          ]
        }
      ]
    }
  ],
  "metadata": {
    "kernelspec": {
      "display_name": "Python 3",
      "language": "python",
      "name": "python3"
    },
    "language_info": {
      "codemirror_mode": {
        "name": "ipython",
        "version": 3
      },
      "file_extension": ".py",
      "mimetype": "text/x-python",
      "name": "python",
      "nbconvert_exporter": "python",
      "pygments_lexer": "ipython3",
      "version": "3.11.9"
    },
    "colab": {
      "provenance": []
    }
  },
  "nbformat": 4,
  "nbformat_minor": 0
}