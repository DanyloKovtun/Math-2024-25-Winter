{
  "cells": [
    {
      "cell_type": "markdown",
      "metadata": {
        "id": "_Ua6g_4Bee4E"
      },
      "source": [
        "# Wyznaczniki macierzy 2x2 i 3x3\n",
        "\n",
        "### Wyznacznik macierzy 2x2\n",
        "\n",
        "Ogólny wzór dla wyznacznika macierzy 2x2, gdzie macierz wygląda następująco:\n",
        "\n",
        "$$\n",
        "\\mathbf{A} =\n",
        "\\begin{pmatrix}\n",
        "a_{11} & a_{12} \\\\\n",
        "a_{21} & a_{22}\n",
        "\\end{pmatrix}\n",
        "$$\n",
        "\n",
        "Wyznacznik macierzy 2x2 obliczamy za pomocą wzoru:\n",
        "\n",
        "$$\n",
        "\\text{det}(A) = a_{11} \\cdot a_{22} - a_{12} \\cdot a_{21}\n",
        "$$\n",
        "\n",
        "### Wyznacznik macierzy 3x3\n",
        "\n",
        "Ogólny wzór dla wyznacznika macierzy 3x3, gdzie macierz wygląda następująco:\n",
        "\n",
        "$$\n",
        "\\mathbf{B} =\n",
        "\\begin{pmatrix}\n",
        "a_{11} & a_{12} & a_{13} \\\\\n",
        "a_{21} & a_{22} & a_{23} \\\\\n",
        "a_{31} & a_{32} & a_{33}\n",
        "\\end{pmatrix}\n",
        "$$\n",
        "\n",
        "Wyznacznik macierzy 3x3 obliczamy za pomocą metody Sarrusa lub rozwinięcia Laplace'a. Zastosujemy tutaj metodę Sarrusa:\n",
        "\n",
        "$$\n",
        "\\text{det}(B) = a_{11} \\cdot a_{22} \\cdot a_{33} + a_{12} \\cdot a_{23} \\cdot a_{31} + a_{13} \\cdot a_{21} \\cdot a_{32}\n",
        "- a_{13} \\cdot a_{22} \\cdot a_{31} - a_{12} \\cdot a_{21} \\cdot a_{33} - a_{11} \\cdot a_{23} \\cdot a_{32}\n",
        "$$\n",
        "\n",
        "<img src=\"https://upload.wikimedia.org/wikipedia/commons/c/c0/Sarrus_rule1.svg\" alt=\"Opis obrazka\" width=\"300\" align=\"center\"/>\n",
        "\n",
        "Uwaga: Metoda Sarrusa nie działa dla macierzy o większym rozmiarze niż 3x3.\n",
        "\n",
        "---\n",
        "\n",
        "### Obliczanie wyznaczników w Pythonie przy użyciu SymPy\n",
        "\n",
        "Teraz, korzystając z biblioteki SymPy, obliczymy wyznaczniki na przykładzie macierzy 2x2 i 3x3.\n",
        "\n"
      ]
    },
    {
      "cell_type": "code",
      "execution_count": 1,
      "metadata": {
        "id": "mCUGi-Lgee4G",
        "outputId": "b9b1e5d2-7de3-4506-b996-e7d58353a33c",
        "colab": {
          "base_uri": "https://localhost:8080/",
          "height": 58
        }
      },
      "outputs": [
        {
          "output_type": "execute_result",
          "data": {
            "text/plain": [
              "Matrix([\n",
              "[2, 3],\n",
              "[1, 4]])"
            ],
            "text/latex": "$\\displaystyle \\left[\\begin{matrix}2 & 3\\\\1 & 4\\end{matrix}\\right]$"
          },
          "metadata": {},
          "execution_count": 1
        }
      ],
      "source": [
        "import sympy as sp\n",
        "\n",
        "# Definiujemy macierz\n",
        "A = sp.Matrix([[2, 3], [1, 4]])\n",
        "A # wyświetlenie macierzy"
      ]
    },
    {
      "cell_type": "code",
      "execution_count": null,
      "metadata": {
        "notebookRunGroups": {
          "groupValue": "2"
        },
        "id": "Zl0KsaHJee4I",
        "outputId": "c1b51b6d-484c-40d6-b30c-4d7e8199777e"
      },
      "outputs": [
        {
          "data": {
            "text/plain": [
              "True"
            ]
          },
          "execution_count": 7,
          "metadata": {},
          "output_type": "execute_result"
        }
      ],
      "source": [
        "# Sprawdzenie poprawności obliczeń\n",
        "(2*4-3*1)==A.det()"
      ]
    },
    {
      "cell_type": "code",
      "execution_count": 2,
      "metadata": {
        "id": "ABfSjstaee4I",
        "outputId": "656112ae-78e0-44db-a761-17e29f72bc15",
        "colab": {
          "base_uri": "https://localhost:8080/",
          "height": 78
        }
      },
      "outputs": [
        {
          "output_type": "execute_result",
          "data": {
            "text/plain": [
              "Matrix([\n",
              "[2, 3, 1],\n",
              "[1, 4, 5],\n",
              "[3, 2, 1]])"
            ],
            "text/latex": "$\\displaystyle \\left[\\begin{matrix}2 & 3 & 1\\\\1 & 4 & 5\\\\3 & 2 & 1\\end{matrix}\\right]$"
          },
          "metadata": {},
          "execution_count": 2
        }
      ],
      "source": [
        "# Macierz 3x3\n",
        "B = sp.Matrix([[2, 3, 1], [1, 4, 5], [3, 2, 1]])\n",
        "B"
      ]
    },
    {
      "cell_type": "code",
      "execution_count": 3,
      "metadata": {
        "id": "KyFhWQ5see4J",
        "outputId": "142d6b96-68f3-4942-ed48-c8d0de64e86d",
        "colab": {
          "base_uri": "https://localhost:8080/"
        }
      },
      "outputs": [
        {
          "output_type": "execute_result",
          "data": {
            "text/plain": [
              "True"
            ]
          },
          "metadata": {},
          "execution_count": 3
        }
      ],
      "source": [
        "# Sprawdzenie poprawności obliczeń\n",
        "(2*4*1+3*5*3+1*1*2-1*4*3-5*2*2-3*1*1)==B.det()"
      ]
    },
    {
      "cell_type": "markdown",
      "metadata": {
        "id": "LmqG9fmlee4J"
      },
      "source": [
        "---\n",
        "## Zadania dla studentów\n",
        "\n",
        "Policz wyznaczniki dla macierzy 2x2 i 3x3, które podano poniżej.\n",
        "\n",
        "1. Macierze 2x2:\n",
        "\n",
        "$$\n",
        "\\mathbf{A} =\n",
        "\\begin{pmatrix}\n",
        "2 & 3 \\\\\n",
        "1 & 4\n",
        "\\end{pmatrix}\n",
        ", \\qquad\n",
        "\\mathbf{B} =\n",
        "\\begin{pmatrix}\n",
        "5 & 6 \\\\\n",
        "7 & 8\n",
        "\\end{pmatrix}\n",
        ", \\qquad\n",
        "\\mathbf{C} =\n",
        "\\begin{pmatrix}\n",
        "-1 & 2 \\\\\n",
        "3 & 0\n",
        "\\end{pmatrix}\n",
        "$$\n"
      ]
    },
    {
      "cell_type": "markdown",
      "metadata": {
        "id": "kTuBOfB4ee4J"
      },
      "source": [
        "\n",
        "2. Macierze 3x3:\n",
        "\n",
        "\n",
        "$$\n",
        "\\mathbf{D} =\n",
        "\\begin{pmatrix}\n",
        "1 & 0 & 2 \\\\\n",
        "-1 & 3 & 1 \\\\\n",
        "2 & 4 & -2\n",
        "\\end{pmatrix}\n",
        ", \\qquad\n",
        "\\mathbf{E} =\n",
        "\\begin{pmatrix}\n",
        "3 & 1 & -1 \\\\\n",
        "0 & 2 & 4 \\\\\n",
        "5 & 3 & 2\n",
        "\\end{pmatrix}\n",
        ", \\qquad\n",
        "\\mathbf{F} =\n",
        "\\begin{pmatrix}\n",
        "2 & -3 & 1 \\\\\n",
        "1 & 4 & -2 \\\\\n",
        "1 & 5 & 3\n",
        "\\end{pmatrix}\n",
        "$$\n"
      ]
    },
    {
      "cell_type": "code",
      "source": [
        "import sympy as sp\n",
        "\n",
        "\n",
        "\n",
        "A = sp.Matrix([[2, 3],\n",
        "               [1, 4]])\n",
        "\n",
        "B = sp.Matrix([[5, 6],\n",
        "               [7, 8]])\n",
        "\n",
        "C = sp.Matrix([[-1, 2],\n",
        "               [3, 0]])\n",
        "\n",
        "D = sp.Matrix([[1, 0, 2],\n",
        "               [-1, 3, 1],\n",
        "               [2, 4, -2]])\n",
        "\n",
        "E = sp.Matrix([[3, 1, -1],\n",
        "               [0, 2, 4],\n",
        "               [5, 3, 2]])\n",
        "\n",
        "F = sp.Matrix([[2, -3, 1],\n",
        "               [1, 4, -2],\n",
        "               [1, 5, 3]])\n",
        "\n",
        "\n",
        "(2 * 4) - (3 * 1) == A.det()\n",
        "(5 * 8) - (6 * 7) == B.det()\n",
        "(-1 * 0) - (2 * 3) == C.det()\n",
        "(1 * 3 * -2) + (-1 * 4 * 2) + (2 * 0 * 1) - (2 * 3 * 2) - (1 * 4 * 1) - (-2 * 0 * -1) == D.det()\n",
        "(3 * 2 * 2) + (0 * 3 * -1) + (5 * 1 * 4) - (-1 * 2 * 5) - (4 * 3 * 3) - (2 * 1 * 0) == E.det()\n",
        "(2 * 4 * 3) + (1 * 5 * 1) + (1 * -3 * -2) - (1 * 4 * 1) - (-2 * 5 * 2) - (3 * -3 * 1) == F.det()"
      ],
      "metadata": {
        "id": "HqAYfrQJkUBe"
      },
      "execution_count": null,
      "outputs": []
    }
  ],
  "metadata": {
    "kernelspec": {
      "display_name": ".venv",
      "language": "python",
      "name": "python3"
    },
    "language_info": {
      "codemirror_mode": {
        "name": "ipython",
        "version": 3
      },
      "file_extension": ".py",
      "mimetype": "text/x-python",
      "name": "python",
      "nbconvert_exporter": "python",
      "pygments_lexer": "ipython3",
      "version": "3.11.9"
    },
    "colab": {
      "provenance": []
    }
  },
  "nbformat": 4,
  "nbformat_minor": 0
}